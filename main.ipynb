{
 "cells": [
  {
   "cell_type": "code",
   "execution_count": 1,
   "id": "e6686020-f3ab-41f9-a80c-d60816ba2921",
   "metadata": {},
   "outputs": [],
   "source": [
    "from utils.agents import *\n",
    "from utils.embedding import *\n",
    "from utils.json_extract import *\n",
    "from utils.R import *"
   ]
  },
  {
   "metadata": {},
   "cell_type": "code",
   "outputs": [],
   "execution_count": null,
   "source": "",
   "id": "53de19f841fad459"
  },
  {
   "metadata": {},
   "cell_type": "code",
   "outputs": [],
   "execution_count": null,
   "source": "print(1)",
   "id": "a255bc2911924e5b"
  },
  {
   "metadata": {},
   "cell_type": "code",
   "outputs": [],
   "execution_count": null,
   "source": "print(1)",
   "id": "2699650545cfbf39"
  },
  {
   "cell_type": "markdown",
   "id": "999574b6-d4dc-427c-b2bc-b83f657e85cf",
   "metadata": {},
   "source": [
    "### Building a Knowledge Graph from a txt\n",
    "\n",
    "#### Here, we use the paper as the material, refer to [India's Opportunity to Address Human Resource Challenges](https://pubmed.ncbi.nlm.nih.gov/37448434/#:~:text=The%20paucity%20of%20skilled%20personnel%20must%20be%20addressed,budget%20offers%20an%20unprecedented%20opportunity%20to%20do%20this)"
   ]
  },
  {
   "cell_type": "code",
   "execution_count": 2,
   "id": "7130981f-c4d2-4d26-8516-eb6742d9a468",
   "metadata": {},
   "outputs": [],
   "source": [
    "try:\n",
    "    with open('./prompts/graph.txt', 'r', encoding='utf-8') as file:\n",
    "        KG_task  = file.read()\n",
    "except FileNotFoundError:\n",
    "    res = \"File not found.\"\n",
    "\n",
    "api_key = \"3a96f3438411dfd81700ce172c4e5b89.fSLyWokcvYectqvI\" # You should put your API_KEY HERE\n",
    "agent_KG = Agent(api_key=api_key, model_name=\"glm-4-long\", system_content=KG_task )"
   ]
  },
  {
   "cell_type": "code",
   "execution_count": 3,
   "id": "82d6d750-0647-4292-a921-132cd17fb81a",
   "metadata": {},
   "outputs": [],
   "source": [
    "file_path = \"./datasets/cureus-0015-00000040274.txt\"\n",
    "\n",
    "# Opening and reading the file\n",
    "try:\n",
    "    with open(file_path, 'r', encoding='utf-8') as file:\n",
    "        document_content = file.read()\n",
    "except FileNotFoundError:\n",
    "    document_content = \"The specified file path was not found.\"\n",
    "\n",
    "extracted_content = agent_KG.get_response(user_content=document_content)['response_content']\n",
    "extracted_json = clean_and_extract_json(extracted_content)"
   ]
  },
  {
   "cell_type": "code",
   "execution_count": 4,
   "id": "8416a7e1-3496-4187-98cb-8522c74d4e89",
   "metadata": {},
   "outputs": [],
   "source": [
    "# Store this json\n",
    "output_path = './knowledge_graph/cureus-0015-00000040274.json'\n",
    "\n",
    "# Writing the `extracted_json` to the specified file\n",
    "try:\n",
    "    with open(output_path, 'w', encoding='utf-8') as json_file:\n",
    "        json.dump(extracted_json, json_file, ensure_ascii=False, indent=4)\n",
    "    res = \"File saved successfully.\"\n",
    "except Exception as e:\n",
    "    res = f\"An error occurred: {e}\""
   ]
  },
  {
   "cell_type": "markdown",
   "id": "3824cc24-54f5-4da6-91ad-b32a220cf47e",
   "metadata": {},
   "source": [
    "### Retrieve From this KG using a query"
   ]
  },
  {
   "cell_type": "code",
   "execution_count": 8,
   "id": "27eb58bc-beb7-4720-8356-5d58cd3bdc97",
   "metadata": {},
   "outputs": [],
   "source": [
    "file_path = './knowledge_graph/cureus-0015-00000040274.json'\n",
    "with open(file_path, 'r', encoding='utf-8') as file:\n",
    "    extracted_json = json.load(file)"
   ]
  },
  {
   "cell_type": "code",
   "execution_count": 9,
   "id": "60f2521f-274f-46c5-bb83-131fd03ee568",
   "metadata": {},
   "outputs": [],
   "source": [
    "query = 'How can the National Medical Council (NMC) regulate the growing divide between the public and private health sectors in India, particularly in light of the increasing reliance on Auxiliary Nurse Midwives (ANMs) and Accredited Social Health Activists (ASHAs) for rural healthcare delivery, while addressing the broader challenges of digital technology adoption and health infrastructure development as outlined in the National Health Mission (NHM)?'\n",
    "beta_1 = 3\n",
    "alpha_1 = 1\n",
    "alpha_2 = 2\n",
    "retreival_res = R(query, extracted_json, alpha_1, alpha_2, beta_1)\n",
    "retreival_res = json.dumps(retreival_res, ensure_ascii=False, indent=4)"
   ]
  },
  {
   "cell_type": "code",
   "execution_count": 10,
   "id": "1b30fb08-75ac-46bb-8030-2791e4c293bb",
   "metadata": {},
   "outputs": [
    {
     "data": {
      "text/plain": [
       "'{\\n    \"concepts_id/name/explanation_and_similarity_sorted\": [\\n        {\\n            \"id\": 8,\\n            \"name\": \"National Medical Council (NMC)\",\\n            \"explanation\": \"Replaced Medical Commission, aims to improve regulation of health professionals.\",\\n            \"similarity_score\": 0.7361299395796563\\n        },\\n        {\\n            \"id\": 0,\\n            \"name\": \"India\\'s health indicators\",\\n            \"explanation\": \"Improved but lag behind peer nations.\",\\n            \"similarity_score\": 0.6073716307823804\\n        },\\n        {\\n            \"id\": 4,\\n            \"name\": \"National Health Mission (NHM)\",\\n            \"explanation\": \"Aims to increase healthcare services, focuses on primary healthcare.\",\\n            \"similarity_score\": 0.7193918994073849\\n        },\\n        {\\n            \"id\": 5,\\n            \"name\": \"Accredited Social Health Activists (ASHA)\",\\n            \"explanation\": \"Female community health workers, serve to increase reach of healthcare.\",\\n            \"similarity_score\": 0.5980518805472382\\n        },\\n        {\\n            \"id\": 6,\\n            \"name\": \"Auxiliary Nurse Midwives (ANM)\",\\n            \"explanation\": \"Healthcare workers serving a population of 5,000 to 20,000 people.\",\\n            \"similarity_score\": 0.6692894942678469\\n        },\\n        {\\n            \"id\": 7,\\n            \"name\": \"Rural Medical Assistants (RMA)\",\\n            \"explanation\": \"Contractual health workers, similar to physician assistants.\",\\n            \"similarity_score\": 0.5694689672768122\\n        }\\n    ],\\n    \"complete_relations\": [\\n        {\\n            \"from\": \"National Medical Council (NMC)\",\\n            \"to\": \"India\\'s health indicators\",\\n            \"relation\": \"NMC aims to improve regulation to address health indicators.\"\\n        },\\n        {\\n            \"from\": \"National Medical Council (NMC)\",\\n            \"to\": \"WHO threshold\",\\n            \"relation\": \"India\\'s health indicators are below the WHO threshold.\"\\n        },\\n        {\\n            \"from\": \"National Medical Council (NMC)\",\\n            \"to\": \"Public health sector\",\\n            \"relation\": \"Public health sector issues contribute to India\\'s lagging health indicators.\"\\n        },\\n        {\\n            \"from\": \"National Medical Council (NMC)\",\\n            \"to\": \"Private health sector\",\\n            \"relation\": \"Private health sector issues also contribute to India\\'s lagging health indicators.\"\\n        },\\n        {\\n            \"from\": \"National Medical Council (NMC)\",\\n            \"to\": \"Ayushman Bharat\",\\n            \"relation\": \"Ayushman Bharat targets improved health indicators.\"\\n        },\\n        {\\n            \"from\": \"National Medical Council (NMC)\",\\n            \"to\": \"Digital technologies\",\\n            \"relation\": \"Digital technologies can improve India\\'s health indicators.\"\\n        },\\n        {\\n            \"from\": \"National Medical Council (NMC)\",\\n            \"to\": \"Telemedicine\",\\n            \"relation\": \"Telemedicine can improve healthcare access and health indicators.\"\\n        },\\n        {\\n            \"from\": \"India\\'s health indicators\",\\n            \"to\": \"WHO threshold\",\\n            \"relation\": \"India\\'s health indicators are below the WHO threshold.\"\\n        },\\n        {\\n            \"from\": \"India\\'s health indicators\",\\n            \"to\": \"Public health sector\",\\n            \"relation\": \"Public health sector issues contribute to India\\'s lagging health indicators.\"\\n        },\\n        {\\n            \"from\": \"India\\'s health indicators\",\\n            \"to\": \"Private health sector\",\\n            \"relation\": \"Private health sector issues also contribute to India\\'s lagging health indicators.\"\\n        },\\n        {\\n            \"from\": \"India\\'s health indicators\",\\n            \"to\": \"National Medical Council (NMC)\",\\n            \"relation\": \"NMC aims to improve regulation to address health indicators.\"\\n        },\\n        {\\n            \"from\": \"India\\'s health indicators\",\\n            \"to\": \"Ayushman Bharat\",\\n            \"relation\": \"Ayushman Bharat targets improved health indicators.\"\\n        },\\n        {\\n            \"from\": \"India\\'s health indicators\",\\n            \"to\": \"Digital technologies\",\\n            \"relation\": \"Digital technologies can improve India\\'s health indicators.\"\\n        },\\n        {\\n            \"from\": \"India\\'s health indicators\",\\n            \"to\": \"Telemedicine\",\\n            \"relation\": \"Telemedicine can improve healthcare access and health indicators.\"\\n        },\\n        {\\n            \"from\": \"India\\'s health indicators\",\\n            \"to\": \"National Health Protection Mission\",\\n            \"relation\": \"National Health Protection Mission is part of Ayushman Bharat.\"\\n        },\\n        {\\n            \"from\": \"National Health Mission (NHM)\",\\n            \"to\": \"Accredited Social Health Activists (ASHA)\",\\n            \"relation\": \"NHM created ASHAs to increase healthcare reach.\"\\n        },\\n        {\\n            \"from\": \"National Health Mission (NHM)\",\\n            \"to\": \"Auxiliary Nurse Midwives (ANM)\",\\n            \"relation\": \"NHM utilizes ANMs for healthcare services.\"\\n        },\\n        {\\n            \"from\": \"National Health Mission (NHM)\",\\n            \"to\": \"Rural Medical Assistants (RMA)\",\\n            \"relation\": \"NHM employs RMAs for primary healthcare.\"\\n        },\\n        {\\n            \"from\": \"Accredited Social Health Activists (ASHA)\",\\n            \"to\": \"National Health Mission (NHM)\",\\n            \"relation\": \"NHM created ASHAs to increase healthcare reach.\"\\n        },\\n        {\\n            \"from\": \"Accredited Social Health Activists (ASHA)\",\\n            \"to\": \"Auxiliary Nurse Midwives (ANM)\",\\n            \"relation\": \"NHM utilizes ANMs for healthcare services.\"\\n        },\\n        {\\n            \"from\": \"Accredited Social Health Activists (ASHA)\",\\n            \"to\": \"Rural Medical Assistants (RMA)\",\\n            \"relation\": \"NHM employs RMAs for primary healthcare.\"\\n        },\\n        {\\n            \"from\": \"Auxiliary Nurse Midwives (ANM)\",\\n            \"to\": \"National Health Mission (NHM)\",\\n            \"relation\": \"NHM utilizes ANMs for healthcare services.\"\\n        },\\n        {\\n            \"from\": \"Auxiliary Nurse Midwives (ANM)\",\\n            \"to\": \"Accredited Social Health Activists (ASHA)\",\\n            \"relation\": \"NHM created ASHAs to increase healthcare reach.\"\\n        },\\n        {\\n            \"from\": \"Auxiliary Nurse Midwives (ANM)\",\\n            \"to\": \"Rural Medical Assistants (RMA)\",\\n            \"relation\": \"NHM employs RMAs for primary healthcare.\"\\n        },\\n        {\\n            \"from\": \"Rural Medical Assistants (RMA)\",\\n            \"to\": \"National Health Mission (NHM)\",\\n            \"relation\": \"NHM employs RMAs for primary healthcare.\"\\n        },\\n        {\\n            \"from\": \"Rural Medical Assistants (RMA)\",\\n            \"to\": \"Accredited Social Health Activists (ASHA)\",\\n            \"relation\": \"NHM created ASHAs to increase healthcare reach.\"\\n        },\\n        {\\n            \"from\": \"Rural Medical Assistants (RMA)\",\\n            \"to\": \"Auxiliary Nurse Midwives (ANM)\",\\n            \"relation\": \"NHM utilizes ANMs for healthcare services.\"\\n        }\\n    ]\\n}'"
      ]
     },
     "execution_count": 10,
     "metadata": {},
     "output_type": "execute_result"
    }
   ],
   "source": [
    "retreival_res"
   ]
  },
  {
   "cell_type": "markdown",
   "id": "344fcec2-2b16-4111-956f-91fd02e84ddd",
   "metadata": {},
   "source": [
    "### Construct multi agents provided for users"
   ]
  },
  {
   "cell_type": "code",
   "execution_count": 11,
   "id": "7d972af7-11e0-40ad-9bfd-e4d7030ede52",
   "metadata": {},
   "outputs": [],
   "source": [
    "file_path = './prompts/'\n",
    "dirs = ['agent1.txt', 'agent2.txt', 'agent3.txt', 'agent4.txt', 'fusion.txt']\n",
    "\n",
    "# Reading the content of files and storing them in the 'tasks' dictionary directly\n",
    "tasks = {key: open(f\"{file_path}{key}\", 'r', encoding='utf-8').read() for key in dirs}"
   ]
  },
  {
   "cell_type": "code",
   "execution_count": 12,
   "id": "3034bcb6-dcb4-46ec-820b-75e84d663f1e",
   "metadata": {},
   "outputs": [],
   "source": [
    "file_path = './prompts/'\n",
    "dirs = ['agent1.txt', 'agent2.txt', 'agent3.txt', 'agent4.txt', 'fusion.txt']\n",
    "\n",
    "# Reading the content of files and storing them in the 'tasks' dictionary directly\n",
    "tasks = {key: open(f\"{file_path}{key}\", 'r', encoding='utf-8').read() for key in dirs}\n",
    "\n",
    "# Renaming the keys in the 'tasks' dictionary\n",
    "tasks = {\n",
    "    'concepts': tasks['agent1.txt'],\n",
    "    'hint': tasks['agent2.txt'],\n",
    "    'assess': tasks['agent3.txt'],\n",
    "    'questions': tasks['agent4.txt'],\n",
    "    'fusion': tasks['fusion.txt']\n",
    "}\n",
    "\n",
    "agents = {}\n",
    "api_key = \"531e9c858c9d4dc1d9295dbf0cdf20e5.zjSejRW3PHh8015f\"\n",
    "llms_list = [\"glm-4\", \"glm-4-plus\", \"glm-4-long\", \"glm-4-0520\", \"glm-4-flash\"]\n",
    "\n",
    "# Loop to initialize Agent instances for each LLM and task content, and create a dictionary with LLM+task as keys\n",
    "for i in llms_list:\n",
    "    for task_name, task_content in tasks.items():\n",
    "        key = f\"{i}_{task_name}\"  # Create a key by combining LLM model name and task name\n",
    "        agents[key] = Agent(api_key=api_key, model_name=i, system_content=task_content)"
   ]
  },
  {
   "cell_type": "markdown",
   "id": "1d36ae76-d972-4b94-87b0-9ad9b1eddcb1",
   "metadata": {},
   "source": [
    "#### Testing an Agent"
   ]
  },
  {
   "cell_type": "code",
   "execution_count": 13,
   "id": "b999f7dc-3628-4a10-b45b-2b344b6ddac4",
   "metadata": {},
   "outputs": [
    {
     "name": "stdout",
     "output_type": "stream",
     "text": [
      "The reponse is \n",
      "To provide a detailed explanation of the term \"National Medical Council (NMC),\" I will use the provided external knowledge graph (KG). Let's assume the KG contains relevant information about the NMC.\n",
      "\n",
      "### External Knowledge Graph (KG):\n",
      "\n",
      "```json\n",
      "{\n",
      "  \"nodes\": [\n",
      "    {\n",
      "      \"id\": 0,\n",
      "      \"name\": \"National Medical Council (NMC)\",\n",
      "      \"explanation\": \"The National Medical Council is a regulatory body in India that oversees the medical education and practice, replacing the Medical Council of India (MCI). It is responsible for establishing standards for medical education, granting recognition to medical qualifications, and maintaining a register of medical practitioners.\"\n",
      "    },\n",
      "    {\n",
      "      \"id\": 1,\n",
      "      \"name\": \"Medical Council of India (MCI)\",\n",
      "      \"explanation\": \"The former regulatory body in India for medical education and practice, which was replaced by the National Medical Council (NMC).\"\n",
      "    },\n",
      "    {\n",
      "      \"id\": 2,\n",
      "      \"name\": \"medical education\",\n",
      "      \"explanation\": \"The education and training required to become a medical professional, including undergraduate and postgraduate courses in medicine.\"\n",
      "    },\n",
      "    {\n",
      "      \"id\": 3,\n",
      "      \"name\": \"medical practice\",\n",
      "      \"explanation\": \"The professional activities of a medical practitioner, including diagnosis, treatment, and prevention of diseases.\"\n",
      "    }\n",
      "  ],\n",
      "  \"edges\": [\n",
      "    {\n",
      "      \"id\": \"0to1\",\n",
      "      \"content\": \"The National Medical Council (NMC) replaced the Medical Council of India (MCI).\"\n",
      "    },\n",
      "    {\n",
      "      \"id\": \"0to2\",\n",
      "      \"content\": \"The National Medical Council (NMC) sets standards for medical education.\"\n",
      "    },\n",
      "    {\n",
      "      \"id\": \"0to3\",\n",
      "      \"content\": \"The National Medical Council (NMC) regulates medical practice.\"\n",
      "    }\n",
      "  ]\n",
      "}\n",
      "```\n",
      "\n",
      "### Output:\n",
      "\n",
      "The concepts and explanation are given as follows:\n",
      "\n",
      "```json\n",
      "{\n",
      "  \"term0\": {\n",
      "    \"term\": \"National Medical Council (NMC)\",\n",
      "    \"explanation\": \"The National Medical Council is a regulatory body in India that oversees the medical education and practice, replacing the Medical Council of India (MCI). It is responsible for establishing standards for medical education, granting recognition to medical qualifications, and maintaining a register of medical practitioners.\"\n",
      "  }\n",
      "}\n",
      "```\n",
      "\n",
      "This output provides a clear and detailed explanation of the term \"National Medical Council (NMC)\" based on the information from the external knowledge graph. If you have any more specific queries or need further details, feel free to ask!\n"
     ]
    }
   ],
   "source": [
    "a0 = agents[\"glm-4-plus_concepts\"]\n",
    "user_input = \"\"\"\n",
    "What does the National Medical Council (NMC) mean?\n",
    "\"\"\"\n",
    "res0 = a0.get_response(user_content=user_input)['response_content']\n",
    "print(\"The reponse is\" + \" \\n\" + res0)"
   ]
  },
  {
   "cell_type": "markdown",
   "id": "79f7a08c-f7e7-4d67-816f-9ec524bd5938",
   "metadata": {},
   "source": [
    "### Choose 5 agents"
   ]
  },
  {
   "cell_type": "code",
   "execution_count": 14,
   "id": "166d2a4b-e0c5-481c-8291-8a4336f66908",
   "metadata": {},
   "outputs": [],
   "source": [
    "agent1 = agents[\"glm-4-flash_concepts\"]  # Responsible for handling the 'concepts' task using the 'glm-4-flash' model\n",
    "agent2 = agents[\"glm-4-plus_hint\"]       # Handles the 'hint' task using the 'glm-4-plus' model\n",
    "agent3 = agents[\"glm-4-plus_assess\"]     # Manages the 'assess' task using the 'glm-4-plus' model\n",
    "agent4 = agents[\"glm-4-0520_questions\"]  # Processes the 'questions' task using the 'glm-4-0520' model\n",
    "agent5 = agents[\"glm-4-flash_fusion\"]    # Takes care of the 'fusion' task using the 'glm-4-flash' model"
   ]
  },
  {
   "cell_type": "markdown",
   "id": "2fe7aeef-852c-439c-b9b0-91313d42c4ee",
   "metadata": {},
   "source": [
    "### Generate responses and Fuse them"
   ]
  },
  {
   "cell_type": "code",
   "execution_count": 16,
   "id": "e5f37c85-93c4-42d9-9be2-f5c563ba00da",
   "metadata": {},
   "outputs": [],
   "source": [
    "agents_parallel = [agent1, agent2, agent3]\n",
    "\n",
    "input = 'my question is: /n' + query +  \\\n",
    "'please answer my question based on the kwnoledge graph content as follows' + \\\n",
    "retreival_res\n",
    "\n",
    "response = \"\"\n",
    "\n",
    "for agent in agents_parallel:\n",
    "    res = agent.get_response(user_content=input)['response_content']\n",
    "    response += res"
   ]
  },
  {
   "cell_type": "code",
   "execution_count": 17,
   "id": "21cc4b42-480f-440c-b9a0-48e21d1a9b40",
   "metadata": {},
   "outputs": [
    {
     "data": {
      "text/plain": [
       "'The concepts and explanations are given as follows:\\n{\\n  \"term0\": {\\n    \"term\": \"National Medical Council (NMC)\",\\n    \"explanation\": \"The National Medical Council (NMC) is an organization that replaced the Medical Commission and aims to improve the regulation of health professionals.\"\\n  },\\n  \"term1\": {\\n    \"term\": \"National Health Mission (NHM)\",\\n    \"explanation\": \"The National Health Mission (NHM) is an initiative that aims to increase healthcare services and focuses on primary healthcare.\"\\n  },\\n  \"term2\": {\\n    \"term\": \"Accredited Social Health Activists (ASHA)\",\\n    \"explanation\": \"Accredited Social Health Activists (ASHA) are female community health workers designed to increase the reach of healthcare in rural areas.\"\\n  },\\n  \"term3\": {\\n    \"term\": \"Auxiliary Nurse Midwives (ANM)\",\\n    \"explanation\": \"Auxiliary Nurse Midwives (ANM) are healthcare workers serving populations of 5,000 to 20,000 people, providing essential healthcare services.\"\\n  },\\n  \"term4\": {\\n    \"term\": \"Digital technology adoption\",\\n    \"explanation\": \"Digital technology adoption refers to the integration of digital technologies into healthcare services to improve efficiency, accessibility, and quality of care.\"\\n  },\\n  \"term5\": {\\n    \"term\": \"Health infrastructure development\",\\n    \"explanation\": \"Health infrastructure development involves the construction and improvement of healthcare facilities, such as hospitals, clinics, and other medical infrastructure.\"\\n  }\\n}A hint is given as follows:\\n\"To address the growing divide between the public and private health sectors in India, the National Medical Council (NMC) could consider leveraging the existing frameworks of the National Health Mission (NHM), particularly its utilization of Auxiliary Nurse Midwives (ANMs) and Accredited Social Health Activists (ASHAs). Focus on how the NMC can integrate digital technology and enhance health infrastructure to support these frontline workers, thereby improving rural healthcare delivery and aligning with the broader objectives of the NHM.\"The skill or capability that this question tries to assess is given as follows:\\n\\n\"This question is designed to evaluate your understanding of healthcare policy and regulatory frameworks, specifically in the context of the National Medical Council (NMC) and its role in addressing disparities between the public and private health sectors in India. The knowledge graph highlights that the NMC aims to improve the regulation of health professionals, which is crucial for addressing lagging health indicators in India. The question also assesses your knowledge of the National Health Mission (NHM), which focuses on increasing healthcare services, particularly primary healthcare, and utilizes key personnel like Accredited Social Health Activists (ASHAs) and Auxiliary Nurse Midwives (ANMs) to enhance rural healthcare delivery.\\n\\nFurthermore, the question challenges your ability to integrate concepts related to digital technology adoption and health infrastructure development, as outlined in the NHM. By asking how the NMC can regulate and bridge the divide between sectors while leveraging these technologies and workforce strategies, the question tests your analytical skills in policy formulation and implementation, as well as your grasp of the broader challenges and solutions in public health management.\"'"
      ]
     },
     "execution_count": 17,
     "metadata": {},
     "output_type": "execute_result"
    }
   ],
   "source": [
    "response"
   ]
  },
  {
   "cell_type": "code",
   "execution_count": 18,
   "id": "df43f161-3044-450d-af12-bb55de9095f0",
   "metadata": {},
   "outputs": [
    {
     "name": "stdout",
     "output_type": "stream",
     "text": [
      "Based on your question, here is the information I have gathered:\n",
      "\n",
      "1. Extracted Terminology/Concepts and Explanations:\n",
      "   - National Medical Council (NMC): An organization that replaced the Medical Commission, aiming to improve the regulation of health professionals.\n",
      "   - National Health Mission (NHM): An initiative focusing on increasing healthcare services, particularly primary healthcare.\n",
      "   - Accredited Social Health Activists (ASHA): Female community health workers designed to increase the reach of healthcare in rural areas.\n",
      "   - Auxiliary Nurse Midwives (ANM): Healthcare workers serving populations of 5,000 to 20,000 people, providing essential healthcare services.\n",
      "   - Digital technology adoption: The integration of digital technologies into healthcare services to improve efficiency, accessibility, and quality of care.\n",
      "   - Health infrastructure development: The construction and improvement of healthcare facilities such as hospitals, clinics, and other medical infrastructure.\n",
      "\n",
      "2. Global Hint:\n",
      "   To address the growing divide between the public and private health sectors in India, the National Medical Council (NMC) could consider leveraging the existing frameworks of the National Health Mission (NHM), particularly its utilization of Auxiliary Nurse Midwives (ANMs) and Accredited Social Health Activists (ASHAs). Focus on how the NMC can integrate digital technology and enhance health infrastructure to support these frontline workers, thereby improving rural healthcare delivery and aligning with the broader objectives of the NHM.\n",
      "\n",
      "3. Skill/Capabilities Assessed by the Question:\n",
      "   This question is designed to evaluate your understanding of healthcare policy and regulatory frameworks, specifically in the context of the National Medical Council (NMC) and its role in addressing disparities between the public and private health sectors in India. The knowledge graph highlights the NMC's aim to improve the regulation of health professionals, which is crucial for addressing lagging health indicators. The question also assesses your knowledge of the NHM, which focuses on increasing healthcare services and utilizes key personnel like ANMs and ASHAS to enhance rural healthcare delivery. Furthermore, the question challenges your ability to integrate concepts related to digital technology adoption and health infrastructure development, as outlined in the NHM. By asking how the NMC can regulate and bridge the divide between sectors while leveraging these technologies and workforce strategies, the question tests your analytical skills in policy formulation and implementation, as well as your grasp of the broader challenges and solutions in public health management.\n"
     ]
    }
   ],
   "source": [
    "answer_fusion = agent5.get_response(user_content=response)['response_content']\n",
    "print(answer_fusion)"
   ]
  },
  {
   "cell_type": "code",
   "execution_count": 19,
   "id": "383b0e4a-4c95-43e8-a0b7-aac59a729d84",
   "metadata": {},
   "outputs": [],
   "source": [
    "# guide user next query\n",
    "guide = agent4.get_response(user_content=input)['response_content']"
   ]
  },
  {
   "cell_type": "code",
   "execution_count": 20,
   "id": "6289c91e-0096-4eed-abc6-bb72fbfd9547",
   "metadata": {},
   "outputs": [
    {
     "name": "stdout",
     "output_type": "stream",
     "text": [
      "A refined question that makes your query clearer and more questions provided for your future thought are given as follows:\n",
      "\n",
      "Clarified Question:\n",
      "\"How can the National Medical Council (NMC) effectively regulate and bridge the gap between the public and private health sectors in India, particularly concerning the increasing reliance on Auxiliary Nurse Midwives (ANMs) and Accredited Social Health Activists (ASHAs) for rural healthcare, while concurrently addressing the challenges of adopting digital technologies and developing health infrastructure as outlined under the National Health Mission (NHM)?\"\n",
      "\n",
      "Proposed Guiding Questions:\n",
      "1. \"In what specific ways can the NMC utilize its regulatory powers to ensure equitable healthcare delivery between the public and private sectors, especially in rural areas served by ANMs and ASHAs?\"\n",
      "2. \"How can the integration of digital technologies in rural healthcare, as facilitated by the NMC, improve health outcomes and potentially reduce the divide between public and private sectors?\"\n",
      "3. \"What strategies might the NMC employ to enhance the training and support for ANMs and ASHAs to meet the broader objectives of the NHM, particularly in the context of improving health infrastructure?\"\n"
     ]
    }
   ],
   "source": [
    "print(guide)"
   ]
  },
  {
   "cell_type": "markdown",
   "id": "98968ff6-bcd6-4ed1-875b-82004f544270",
   "metadata": {},
   "source": [
    "#### The asnwer above is more comprehensive; but more tunning will go on..."
   ]
  },
  {
   "cell_type": "code",
   "execution_count": null,
   "id": "a46b5cd1-7616-449e-bacc-477bd744934e",
   "metadata": {},
   "outputs": [],
   "source": []
  }
 ],
 "metadata": {
  "kernelspec": {
   "display_name": "Python 3 (ipykernel)",
   "language": "python",
   "name": "python3"
  },
  "language_info": {
   "codemirror_mode": {
    "name": "ipython",
    "version": 3
   },
   "file_extension": ".py",
   "mimetype": "text/x-python",
   "name": "python",
   "nbconvert_exporter": "python",
   "pygments_lexer": "ipython3",
   "version": "3.12.3"
  }
 },
 "nbformat": 4,
 "nbformat_minor": 5
}
