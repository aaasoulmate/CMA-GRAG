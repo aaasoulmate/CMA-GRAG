{
 "cells": [
  {
   "cell_type": "code",
   "execution_count": 1,
   "id": "e6686020-f3ab-41f9-a80c-d60816ba2921",
   "metadata": {},
   "outputs": [],
   "source": [
    "import sys\n",
    "sys.path.append(\"./utils\")\n",
    "from utils.agents import *\n",
    "from utils.embedding import *\n",
    "from utils.get_E import *\n",
    "from utils.json_extract import *\n",
    "from utils.R import *"
   ]
  },
  {
   "cell_type": "code",
   "execution_count": 2,
   "id": "b612fc98",
   "metadata": {},
   "outputs": [],
   "source": [
    "#GPT-API-KEY and GLM-API-KEY\n",
    "\n",
    "api_key_gpt = \"sk-pOcjk3qopBxmFcGJ464eFc942f7245B68e076821F959C7B5\"\n",
    "api_key_glm = \"3a96f3438411dfd81700ce172c4e5b89.fSLyWokcvYectqvI\""
   ]
  },
  {
   "cell_type": "markdown",
   "id": "999574b6-d4dc-427c-b2bc-b83f657e85cf",
   "metadata": {},
   "source": [
    "### Building a Knowledge Graph from a txt\n",
    "\n",
    "#### Here, we use the paper as the material, refer to [India's Opportunity to Address Human Resource Challenges](https://pubmed.ncbi.nlm.nih.gov/37448434/#:~:text=The%20paucity%20of%20skilled%20personnel%20must%20be%20addressed,budget%20offers%20an%20unprecedented%20opportunity%20to%20do%20this)"
   ]
  },
  {
   "cell_type": "code",
   "execution_count": 3,
   "id": "7130981f-c4d2-4d26-8516-eb6742d9a468",
   "metadata": {},
   "outputs": [],
   "source": [
    "# graph-task and external corpus\n",
    "\n",
    "try:\n",
    "    with open('./prompts/graph.txt', 'r', encoding='utf-8') as file:\n",
    "        KG_task  = file.read()\n",
    "except FileNotFoundError:\n",
    "    res = \"File not found.\"\n",
    "\n",
    "try:\n",
    "    with open(\"./datasets/cureus-0015-00000040274.txt\", 'r', encoding='utf-8') as file:\n",
    "        document_content = file.read()\n",
    "except FileNotFoundError:\n",
    "    document_content = \"The specified file path was not found.\""
   ]
  },
  {
   "cell_type": "code",
   "execution_count": 4,
   "id": "6fcb7b50",
   "metadata": {},
   "outputs": [
    {
     "name": "stdout",
     "output_type": "stream",
     "text": [
      "```json\n",
      "{\n",
      "    \"nodes\": [\n",
      "        {\"id\": 1, \"name\": \"India\", \"explanation\": \"India has a population of 1.3 billion and a density of doctors and nurses lower than the WHO threshold.\"},\n",
      "        {\"id\": 2, \"name\": \"Health Indicators\", \"explanation\": \"India's health indicators have improved but continue to lag behind peer nations.\"},\n",
      "        {\"id\": 3, \"name\": \"WHO Threshold\", \"explanation\": \"The WHO threshold is 44.5 doctors, nurses, and midwives per 10,000 population.\"},\n",
      "        {\"id\": 4, \"name\": \"Human Resources\", \"explanation\": \"Human resources have a central role in healthcare but show a paucity in skilled personnel.\"},\n",
      "        {\"id\": 5, \"name\": \"Universal Health Coverage\", \"explanation\": \"Universal health coverage is a goal India must accelerate towards for sustainable development.\"},\n",
      "        {\"id\": 6, \"name\": \"National Medical Council\", \"explanation\": \"The newly minted National Medical Council has opportunities within healthcare to achieve SDGs.\"},\n",
      "        {\"id\": 7, \"name\": \"Public Sector\", \"explanation\": \"The public sector is government-funded and has been underfunded with 1.28% of GDP allocation.\"},\n",
      "        {\"id\": 8, \"name\": \"Private Sector\", \"explanation\": \"The private sector is the dominant provider, perceived to provide quality care and involves booming medical tourism.\"},\n",
      "        {\"id\": 9, \"name\": \"Federal Health Budget\", \"explanation\": \"The increase in the federal health budget is seen as an opportunity for healthcare reforms.\"},\n",
      "        {\"id\": 10, \"name\": \"National Health Mission\", \"explanation\": \"NHM has aimed to increase the quantum of services since its inception in 2005.\"},\n",
      "        {\"id\": 11, \"name\": \"Accredited Social Health Activists (ASHA)\", \"explanation\": \"ASHAs are community health workers serving to extend the reach of Auxiliary Nurse Midwives.\"},\n",
      "        {\"id\": 12, \"name\": \"Auxiliary Nurse Midwives (ANM)\", \"explanation\": \"ANMs are meant to serve a population of 5,000 people but often serve up to 20,000.\"},\n",
      "        {\"id\": 13, \"name\": \"Ayushman Bharat\", \"explanation\": \"Ayushman Bharat is a health insurance scheme designed to allow access to care services.\"},\n",
      "        {\"id\": 14, \"name\": \"Digital Technologies\", \"explanation\": \"Digital technology facilitates healthcare delivery and has been catalyzed by the COVID-19 pandemic.\"},\n",
      "        {\"id\": 15, \"name\": \"Telemedicine\", \"explanation\": \"Telemedicine has amplified the reach of care during the COVID-19 pandemic.\"},\n",
      "        {\"id\": 16, \"name\": \"Violence against Healthcare Personnel\", \"explanation\": \"Increasing incidents of violence against doctors are a worrisome trend.\"}\n",
      "    ],\n",
      "    \"edges\": [\n",
      "        {\"id\": \"1to3\", \"content\": \"India's density of doctors and nurses per 10,000 persons is much lower than the WHO threshold.\"},\n",
      "        {\"id\": \"3to1\", \"content\": \"WHO threshold denotes the density required for doctors, nurses, and midwives per 10,000 population in India.\"},\n",
      "        {\"id\": \"1to2\", \"content\": \"India's health indicators have improved but lag behind those of its peer nations.\"},\n",
      "        {\"id\": \"2to1\", \"content\": \"The health indicators of India continue to lag behind peer nations despite improvement.\"},\n",
      "        {\"id\": \"1to5\", \"content\": \"The paucity of skilled personnel in India affects its progress towards universal health coverage and SDGs.\"},\n",
      "        {\"id\": \"5to1\", \"content\": \"Universal health coverage is a goal that India must accelerate towards for sustainable development.\"},\n",
      "        {\"id\": \"4to1\", \"content\": \"Human resource issues must be tackled for improving India's healthcare.\"},\n",
      "        {\"id\": \"1to4\", \"content\": \"The central role of human resources in India’s healthcare highlights a paucity of skilled personnel.\"},\n",
      "        {\"id\": \"6to8\", \"content\": \"The National Medical Council is analyzed alongside the burgeoning private health sector systems.\"},\n",
      "        {\"id\": \"8to6\", \"content\": \"The burgeoning private sector systems are analyzed along with the National Medical Council.\"},\n",
      "        {\"id\": \"7to8\", \"content\": \"The growing divide between the public and private health sectors is analyzed.\"},\n",
      "        {\"id\": \"8to7\", \"content\": \"The divide between the burgeoning private and public health sectors is increasing.\"},\n",
      "        {\"id\": \"7to1\", \"content\": \"The public sector is seeking to improve India's healthcare provision through NHM.\"},\n",
      "        {\"id\": \"1to7\", \"content\": \"India's public sector is underfunded but aims to provide healthcare to vulnerable populations.\"},\n",
      "        {\"id\": \"8to9\", \"content\": \"The private sector perceives opportunities with the federal health budget increase.\"},\n",
      "        {\"id\": \"9to8\", \"content\": \"The increase in the federal health budget has perceived opportunities in the private sector.\"},\n",
      "        {\"id\": \"10to7\", \"content\": \"NHM aimed to increase services in the public healthcare sector.\"},\n",
      "        {\"id\": \"11to12\", \"content\": \"ASHAs are serving to increase the reach of Auxiliary Nurse Midwives.\"},\n",
      "        {\"id\": \"12to11\", \"content\": \"Auxiliary Nurse Midwives' reach is extended by ASHAs.\"},\n",
      "        {\"id\": \"13to5\", \"content\": \"Ayushman Bharat aims to provide access to care services and can help meet SDGs.\"},\n",
      "        {\"id\": \"5to13\", \"content\": \"Universal health coverage includes schemes like Ayushman Bharat to accelerate progress towards SDGs.\"},\n",
      "        {\"id\": \"14to15\", \"content\": \"Digital technology has facilitated an increase in telemedicine usage.\"},\n",
      "        {\"id\": \"15to14\", \"content\": \"Telemedicine usage was facilitated by advancements in digital technology.\"},\n",
      "        {\"id\": \"16to1\", \"content\": \"Violence against healthcare personnel in India hinders healthcare provision efforts.\"},\n",
      "        {\"id\": \"1to16\", \"content\": \"Incidents of violence against healthcare personnel add stress to India's healthcare challenges.\"}\n",
      "    ]\n",
      "}\n",
      "```\n"
     ]
    }
   ],
   "source": [
    "# create a knowledge graph using GPT-4o\n",
    "\n",
    "import http.client\n",
    "import json\n",
    "\n",
    "# Initialize the connection\n",
    "conn = http.client.HTTPSConnection(\"35fast.aigcbest.top\")\n",
    "payload = json.dumps({\n",
    "   \"model\": \"gpt-4o\",\n",
    "   \"messages\": [\n",
    "      {\n",
    "         \"role\": \"user\",\n",
    "         \"content\": KG_task + 'the given passage is: ' + document_content\n",
    "      }\n",
    "   ]\n",
    "})\n",
    "headers = {\n",
    "   'Accept': 'application/json',\n",
    "   'Authorization': f'Bearer {api_key_gpt}',  # Make sure api_key_gpt is defined earlier\n",
    "   'User-Agent': 'Apifox/1.0.0 (https://apifox.com)',\n",
    "   'Content-Type': 'application/json'\n",
    "}\n",
    "\n",
    "# Send the POST request\n",
    "conn.request(\"POST\", \"/v1/chat/completions\", payload, headers)\n",
    "res = conn.getresponse()\n",
    "data = res.read()\n",
    "\n",
    "# Decode the response and load it as a dictionary\n",
    "response = json.loads(data.decode(\"utf-8\"))\n",
    "\n",
    "# Extract the content part from the response\n",
    "content = response['choices'][0]['message']['content']\n",
    "\n",
    "# Print the extracted content\n",
    "print(content)"
   ]
  },
  {
   "cell_type": "code",
   "execution_count": 5,
   "id": "e52a3ebd",
   "metadata": {},
   "outputs": [
    {
     "data": {
      "text/plain": [
       "{'nodes': [{'id': 1,\n",
       "   'name': 'India',\n",
       "   'explanation': 'India has a population of 1.3 billion and a density of doctors and nurses lower than the WHO threshold.'},\n",
       "  {'id': 2,\n",
       "   'name': 'Health Indicators',\n",
       "   'explanation': \"India's health indicators have improved but continue to lag behind peer nations.\"},\n",
       "  {'id': 3,\n",
       "   'name': 'WHO Threshold',\n",
       "   'explanation': 'The WHO threshold is 44.5 doctors, nurses, and midwives per 10,000 population.'},\n",
       "  {'id': 4,\n",
       "   'name': 'Human Resources',\n",
       "   'explanation': 'Human resources have a central role in healthcare but show a paucity in skilled personnel.'},\n",
       "  {'id': 5,\n",
       "   'name': 'Universal Health Coverage',\n",
       "   'explanation': 'Universal health coverage is a goal India must accelerate towards for sustainable development.'},\n",
       "  {'id': 6,\n",
       "   'name': 'National Medical Council',\n",
       "   'explanation': 'The newly minted National Medical Council has opportunities within healthcare to achieve SDGs.'},\n",
       "  {'id': 7,\n",
       "   'name': 'Public Sector',\n",
       "   'explanation': 'The public sector is government-funded and has been underfunded with 1.28% of GDP allocation.'},\n",
       "  {'id': 8,\n",
       "   'name': 'Private Sector',\n",
       "   'explanation': 'The private sector is the dominant provider, perceived to provide quality care and involves booming medical tourism.'},\n",
       "  {'id': 9,\n",
       "   'name': 'Federal Health Budget',\n",
       "   'explanation': 'The increase in the federal health budget is seen as an opportunity for healthcare reforms.'},\n",
       "  {'id': 10,\n",
       "   'name': 'National Health Mission',\n",
       "   'explanation': 'NHM has aimed to increase the quantum of services since its inception in 2005.'},\n",
       "  {'id': 11,\n",
       "   'name': 'Accredited Social Health Activists (ASHA)',\n",
       "   'explanation': 'ASHAs are community health workers serving to extend the reach of Auxiliary Nurse Midwives.'},\n",
       "  {'id': 12,\n",
       "   'name': 'Auxiliary Nurse Midwives (ANM)',\n",
       "   'explanation': 'ANMs are meant to serve a population of 5,000 people but often serve up to 20,000.'},\n",
       "  {'id': 13,\n",
       "   'name': 'Ayushman Bharat',\n",
       "   'explanation': 'Ayushman Bharat is a health insurance scheme designed to allow access to care services.'},\n",
       "  {'id': 14,\n",
       "   'name': 'Digital Technologies',\n",
       "   'explanation': 'Digital technology facilitates healthcare delivery and has been catalyzed by the COVID-19 pandemic.'},\n",
       "  {'id': 15,\n",
       "   'name': 'Telemedicine',\n",
       "   'explanation': 'Telemedicine has amplified the reach of care during the COVID-19 pandemic.'},\n",
       "  {'id': 16,\n",
       "   'name': 'Violence against Healthcare Personnel',\n",
       "   'explanation': 'Increasing incidents of violence against doctors are a worrisome trend.'}],\n",
       " 'edges': [{'id': '1to3',\n",
       "   'content': \"India's density of doctors and nurses per 10,000 persons is much lower than the WHO threshold.\"},\n",
       "  {'id': '3to1',\n",
       "   'content': 'WHO threshold denotes the density required for doctors, nurses, and midwives per 10,000 population in India.'},\n",
       "  {'id': '1to2',\n",
       "   'content': \"India's health indicators have improved but lag behind those of its peer nations.\"},\n",
       "  {'id': '2to1',\n",
       "   'content': 'The health indicators of India continue to lag behind peer nations despite improvement.'},\n",
       "  {'id': '1to5',\n",
       "   'content': 'The paucity of skilled personnel in India affects its progress towards universal health coverage and SDGs.'},\n",
       "  {'id': '5to1',\n",
       "   'content': 'Universal health coverage is a goal that India must accelerate towards for sustainable development.'},\n",
       "  {'id': '4to1',\n",
       "   'content': \"Human resource issues must be tackled for improving India's healthcare.\"},\n",
       "  {'id': '1to4',\n",
       "   'content': 'The central role of human resources in India’s healthcare highlights a paucity of skilled personnel.'},\n",
       "  {'id': '6to8',\n",
       "   'content': 'The National Medical Council is analyzed alongside the burgeoning private health sector systems.'},\n",
       "  {'id': '8to6',\n",
       "   'content': 'The burgeoning private sector systems are analyzed along with the National Medical Council.'},\n",
       "  {'id': '7to8',\n",
       "   'content': 'The growing divide between the public and private health sectors is analyzed.'},\n",
       "  {'id': '8to7',\n",
       "   'content': 'The divide between the burgeoning private and public health sectors is increasing.'},\n",
       "  {'id': '7to1',\n",
       "   'content': \"The public sector is seeking to improve India's healthcare provision through NHM.\"},\n",
       "  {'id': '1to7',\n",
       "   'content': \"India's public sector is underfunded but aims to provide healthcare to vulnerable populations.\"},\n",
       "  {'id': '8to9',\n",
       "   'content': 'The private sector perceives opportunities with the federal health budget increase.'},\n",
       "  {'id': '9to8',\n",
       "   'content': 'The increase in the federal health budget has perceived opportunities in the private sector.'},\n",
       "  {'id': '10to7',\n",
       "   'content': 'NHM aimed to increase services in the public healthcare sector.'},\n",
       "  {'id': '11to12',\n",
       "   'content': 'ASHAs are serving to increase the reach of Auxiliary Nurse Midwives.'},\n",
       "  {'id': '12to11',\n",
       "   'content': \"Auxiliary Nurse Midwives' reach is extended by ASHAs.\"},\n",
       "  {'id': '13to5',\n",
       "   'content': 'Ayushman Bharat aims to provide access to care services and can help meet SDGs.'},\n",
       "  {'id': '5to13',\n",
       "   'content': 'Universal health coverage includes schemes like Ayushman Bharat to accelerate progress towards SDGs.'},\n",
       "  {'id': '14to15',\n",
       "   'content': 'Digital technology has facilitated an increase in telemedicine usage.'},\n",
       "  {'id': '15to14',\n",
       "   'content': 'Telemedicine usage was facilitated by advancements in digital technology.'},\n",
       "  {'id': '16to1',\n",
       "   'content': 'Violence against healthcare personnel in India hinders healthcare provision efforts.'},\n",
       "  {'id': '1to16',\n",
       "   'content': \"Incidents of violence against healthcare personnel add stress to India's healthcare challenges.\"}]}"
      ]
     },
     "execution_count": 5,
     "metadata": {},
     "output_type": "execute_result"
    }
   ],
   "source": [
    "# extract the json data from the response\n",
    "\n",
    "extracted_json = clean_and_extract_json(content)\n",
    "extracted_json"
   ]
  },
  {
   "cell_type": "code",
   "execution_count": 6,
   "id": "8416a7e1-3496-4187-98cb-8522c74d4e89",
   "metadata": {},
   "outputs": [],
   "source": [
    "# Store this json\n",
    "\n",
    "output_path = './knowledge_graph/cureus-0015-00000040274.json'\n",
    "\n",
    "try:\n",
    "    with open(output_path, 'w', encoding='utf-8') as json_file:\n",
    "        json.dump(extracted_json, json_file, ensure_ascii=False, indent=4)\n",
    "    res = \"File saved successfully.\"\n",
    "except Exception as e:\n",
    "    res = f\"An error occurred: {e}\""
   ]
  },
  {
   "cell_type": "markdown",
   "id": "3824cc24-54f5-4da6-91ad-b32a220cf47e",
   "metadata": {},
   "source": [
    "### Retrieve From this KG using a query"
   ]
  },
  {
   "cell_type": "code",
   "execution_count": 7,
   "id": "60f2521f-274f-46c5-bb83-131fd03ee568",
   "metadata": {},
   "outputs": [],
   "source": [
    "# user query\n",
    "query = 'How can the National Medical Council (NMC) regulate the growing divide between the public and private health sectors in India, particularly in light of the increasing reliance on Auxiliary Nurse Midwives (ANMs) and Accredited Social Health Activists (ASHAs) for rural healthcare delivery, while addressing the broader challenges of digital technology adoption and health infrastructure development as outlined in the National Health Mission (NHM)?'\n"
   ]
  },
  {
   "cell_type": "code",
   "execution_count": 8,
   "id": "f21a3965",
   "metadata": {},
   "outputs": [],
   "source": [
    "# get a map: id and similarity value\n",
    "\n",
    "ref_vec = get_embedding(api_key_glm, query)\n",
    "id_list0 = []\n",
    "\n",
    "for i in range(len(extracted_json[\"nodes\"])):\n",
    "    # Get the embedding for the current node's name\n",
    "    embedding = get_embedding(key=api_key_glm, input_text=extracted_json[\"nodes\"][i][\"name\"])\n",
    "    \n",
    "    # Calculate the similarity between the embedding and the reference vector\n",
    "    sim = cosine_similarity(ref_vec, embedding)\n",
    "    \n",
    "    # Append the id and similarity as a dictionary to the list\n",
    "    id_list0.append({\n",
    "        \"id\": extracted_json[\"nodes\"][i][\"id\"],\n",
    "        \"similarity\": sim\n",
    "    })\n"
   ]
  },
  {
   "cell_type": "code",
   "execution_count": 9,
   "id": "8dee0258",
   "metadata": {},
   "outputs": [
    {
     "data": {
      "text/plain": [
       "[6, 12, 10]"
      ]
     },
     "execution_count": 9,
     "metadata": {},
     "output_type": "execute_result"
    }
   ],
   "source": [
    "# get the top-beta_1 id and sort them in descending order\n",
    "\n",
    "bata_1 = 3\n",
    "sorted_list = sorted(id_list0, key=lambda x: x['similarity'], reverse=True)\n",
    "id_list = [item['id'] for item in sorted_list[:bata_1]]\n",
    "\n",
    "id_list"
   ]
  },
  {
   "cell_type": "code",
   "execution_count": 10,
   "id": "ca81c158",
   "metadata": {},
   "outputs": [
    {
     "data": {
      "text/plain": [
       "{'nodes_retrieved': [{'id': 6,\n",
       "   'name': 'National Medical Council',\n",
       "   'explanation': 'The newly minted National Medical Council has opportunities within healthcare to achieve SDGs.',\n",
       "   'length': 0},\n",
       "  {'id': 12,\n",
       "   'name': 'Auxiliary Nurse Midwives (ANM)',\n",
       "   'explanation': 'ANMs are meant to serve a population of 5,000 people but often serve up to 20,000.',\n",
       "   'length': 0},\n",
       "  {'id': 10,\n",
       "   'name': 'National Health Mission',\n",
       "   'explanation': 'NHM has aimed to increase the quantum of services since its inception in 2005.',\n",
       "   'length': 0},\n",
       "  {'id': 8,\n",
       "   'name': 'Private Sector',\n",
       "   'explanation': 'The private sector is the dominant provider, perceived to provide quality care and involves booming medical tourism.',\n",
       "   'length': 1},\n",
       "  {'id': 11,\n",
       "   'name': 'Accredited Social Health Activists (ASHA)',\n",
       "   'explanation': 'ASHAs are community health workers serving to extend the reach of Auxiliary Nurse Midwives.',\n",
       "   'length': 1},\n",
       "  {'id': 7,\n",
       "   'name': 'Public Sector',\n",
       "   'explanation': 'The public sector is government-funded and has been underfunded with 1.28% of GDP allocation.',\n",
       "   'length': 1},\n",
       "  {'id': 9,\n",
       "   'name': 'Federal Health Budget',\n",
       "   'explanation': 'The increase in the federal health budget is seen as an opportunity for healthcare reforms.',\n",
       "   'length': 2},\n",
       "  {'id': 1,\n",
       "   'name': 'India',\n",
       "   'explanation': 'India has a population of 1.3 billion and a density of doctors and nurses lower than the WHO threshold.',\n",
       "   'length': 2}],\n",
       " 'relations_retrieved': [{'from': 'National Health Mission',\n",
       "   'to': 'Public Sector',\n",
       "   'relation': 'NHM aimed to increase services in the public healthcare sector.',\n",
       "   'length': 1},\n",
       "  {'from': 'National Medical Council',\n",
       "   'to': 'Private Sector',\n",
       "   'relation': 'The National Medical Council is analyzed alongside the burgeoning private health sector systems.',\n",
       "   'length': 1},\n",
       "  {'from': 'National Medical Council',\n",
       "   'to': 'Private Sector',\n",
       "   'relation': 'The burgeoning private sector systems are analyzed along with the National Medical Council.',\n",
       "   'length': 1},\n",
       "  {'from': 'Auxiliary Nurse Midwives (ANM)',\n",
       "   'to': 'Accredited Social Health Activists (ASHA)',\n",
       "   'relation': 'ASHAs are serving to increase the reach of Auxiliary Nurse Midwives.',\n",
       "   'length': 1},\n",
       "  {'from': 'Auxiliary Nurse Midwives (ANM)',\n",
       "   'to': 'Accredited Social Health Activists (ASHA)',\n",
       "   'relation': \"Auxiliary Nurse Midwives' reach is extended by ASHAs.\",\n",
       "   'length': 1},\n",
       "  {'from': 'National Medical Council',\n",
       "   'to': 'Public Sector',\n",
       "   'relation': 'The National Medical Council is analyzed alongside the burgeoning private health sector systems.\\nThe divide between the burgeoning private and public health sectors is increasing.',\n",
       "   'length': 2},\n",
       "  {'from': 'National Medical Council',\n",
       "   'to': 'Public Sector',\n",
       "   'relation': 'The growing divide between the public and private health sectors is analyzed.\\nThe burgeoning private sector systems are analyzed along with the National Medical Council.',\n",
       "   'length': 2},\n",
       "  {'from': 'National Health Mission',\n",
       "   'to': 'Private Sector',\n",
       "   'relation': 'NHM aimed to increase services in the public healthcare sector.\\nThe growing divide between the public and private health sectors is analyzed.',\n",
       "   'length': 2},\n",
       "  {'from': 'National Medical Council',\n",
       "   'to': 'Federal Health Budget',\n",
       "   'relation': 'The National Medical Council is analyzed alongside the burgeoning private health sector systems.\\nThe private sector perceives opportunities with the federal health budget increase.',\n",
       "   'length': 2},\n",
       "  {'from': 'National Medical Council',\n",
       "   'to': 'Federal Health Budget',\n",
       "   'relation': 'The increase in the federal health budget has perceived opportunities in the private sector.\\nThe burgeoning private sector systems are analyzed along with the National Medical Council.',\n",
       "   'length': 2},\n",
       "  {'from': 'National Health Mission',\n",
       "   'to': 'India',\n",
       "   'relation': \"NHM aimed to increase services in the public healthcare sector.\\nThe public sector is seeking to improve India's healthcare provision through NHM.\",\n",
       "   'length': 2}]}"
      ]
     },
     "execution_count": 10,
     "metadata": {},
     "output_type": "execute_result"
    }
   ],
   "source": [
    "# get the retrieved result\n",
    "\n",
    "data = get_E(extracted_json)\n",
    "alpha_1 = 2\n",
    "alpha_2 = 2\n",
    "retrieved_res = R(data, id_list, alpha_1, alpha_2)\n",
    "retrieved_res"
   ]
  },
  {
   "cell_type": "markdown",
   "id": "344fcec2-2b16-4111-956f-91fd02e84ddd",
   "metadata": {},
   "source": [
    "### Construct multi agents provided for users"
   ]
  },
  {
   "cell_type": "code",
   "execution_count": 11,
   "id": "3034bcb6-dcb4-46ec-820b-75e84d663f1e",
   "metadata": {},
   "outputs": [],
   "source": [
    "# construct tasks set and llms set\n",
    "\n",
    "file_path = './prompts/'\n",
    "dirs = ['agent1.txt', 'agent2.txt', 'agent3.txt', 'agent4.txt', 'fusion.txt']\n",
    "\n",
    "# Reading the content of files and storing them in the 'tasks' dictionary directly\n",
    "tasks = {key: open(f\"{file_path}{key}\", 'r', encoding='utf-8').read() for key in dirs}\n",
    "\n",
    "# Renaming the keys in the 'tasks' dictionary\n",
    "tasks = {\n",
    "    'concepts': tasks['agent1.txt'],\n",
    "    'hint': tasks['agent2.txt'],\n",
    "    'assess': tasks['agent3.txt'],\n",
    "    'questions': tasks['agent4.txt'],\n",
    "    'fusion': tasks['fusion.txt']\n",
    "}\n",
    "\n",
    "agents = {}\n",
    "llms_list = [\"glm-4\", \"glm-4-plus\", \"glm-4-long\", \"glm-4-0520\", \"glm-4-flash\"]\n",
    "\n",
    "# Loop to initialize Agent instances for each LLM and task content, and create a dictionary with LLM+task as keys\n",
    "for i in llms_list:\n",
    "    for task_name, task_content in tasks.items():\n",
    "        key = f\"{i}_{task_name}\"  # Create a key by combining LLM model name and task name\n",
    "        agents[key] = Agent(api_key=api_key_glm, model_name=i, system_content=task_content)"
   ]
  },
  {
   "cell_type": "markdown",
   "id": "1d36ae76-d972-4b94-87b0-9ad9b1eddcb1",
   "metadata": {},
   "source": [
    "#### Testing an Agent"
   ]
  },
  {
   "cell_type": "code",
   "execution_count": 12,
   "id": "b999f7dc-3628-4a10-b45b-2b344b6ddac4",
   "metadata": {},
   "outputs": [
    {
     "name": "stdout",
     "output_type": "stream",
     "text": [
      "The reponse is \n",
      "The National Medical Council (NMC) is an apex regulatory body in India overseeing medical education and practice. It replaced the Medical Council of India (MCI) to enhance transparency and accountability. The NMC regulates medical colleges, sets standards for medical education, and maintains the Indian Medical Register. It aims to ensure quality healthcare by accrediting medical institutions and certifying medical professionals. The council also addresses grievances and enforces ethical practices in the medical field.\n"
     ]
    }
   ],
   "source": [
    "a0 = agents[\"glm-4-plus_concepts\"]\n",
    "user_input = \"\"\"\n",
    "What does the National Medical Council (NMC) mean? less than 100 words.\n",
    "\"\"\"\n",
    "res0 = a0.get_response(user_content=user_input)['response_content']\n",
    "print(\"The reponse is\" + \" \\n\" + res0)"
   ]
  },
  {
   "cell_type": "markdown",
   "id": "79f7a08c-f7e7-4d67-816f-9ec524bd5938",
   "metadata": {},
   "source": [
    "### Choose 5 agents"
   ]
  },
  {
   "cell_type": "code",
   "execution_count": 13,
   "id": "166d2a4b-e0c5-481c-8291-8a4336f66908",
   "metadata": {},
   "outputs": [],
   "source": [
    "agent1 = agents[\"glm-4-flash_concepts\"]  # Responsible for handling the 'concepts' task using the 'glm-4-flash' model\n",
    "agent2 = agents[\"glm-4-plus_hint\"]       # Handles the 'hint' task using the 'glm-4-plus' model\n",
    "agent3 = agents[\"glm-4-plus_assess\"]     # Manages the 'assess' task using the 'glm-4-plus' model\n",
    "agent4 = agents[\"glm-4-0520_questions\"]  # Processes the 'questions' task using the 'glm-4-0520' model\n",
    "agent5 = agents[\"glm-4-flash_fusion\"]    # Takes care of the 'fusion' task using the 'glm-4-flash' model"
   ]
  },
  {
   "cell_type": "markdown",
   "id": "2fe7aeef-852c-439c-b9b0-91313d42c4ee",
   "metadata": {},
   "source": [
    "### Generate responses and Fuse them"
   ]
  },
  {
   "cell_type": "code",
   "execution_count": 14,
   "id": "e5f37c85-93c4-42d9-9be2-f5c563ba00da",
   "metadata": {},
   "outputs": [],
   "source": [
    "# generate responses\n",
    "\n",
    "\n",
    "retrieved_res= json.dumps(retrieved_res, ensure_ascii=False, indent=2)\n",
    "agents_parallel = [agent1, agent2, agent3]\n",
    "\n",
    "input = 'my question is: /n' + query +  \\\n",
    "'please answer my question based on the kwnoledge graph content as follows' + \\\n",
    "retrieved_res\n",
    "\n",
    "response = \"\"\n",
    "\n",
    "for agent in agents_parallel:\n",
    "    res = agent.get_response(user_content=input)['response_content']\n",
    "    response += res"
   ]
  },
  {
   "cell_type": "code",
   "execution_count": 15,
   "id": "21cc4b42-480f-440c-b9a0-48e21d1a9b40",
   "metadata": {},
   "outputs": [
    {
     "data": {
      "text/plain": [
       "'The concepts and explanations are given as follows:\\n\\n{\\n  \"term0\": {\\n    \"term\": \"National Medical Council (NMC)\",\\n    \"explanation\": \"The National Medical Council has opportunities within healthcare to achieve Sustainable Development Goals (SDGs).\"\\n  },\\n  \"term1\": {\\n    \"term\": \"Auxiliary Nurse Midwives (ANM)\",\\n    \"explanation\": \"ANMs are meant to serve a population of 5,000 people but often serve up to 20,000, indicating a potential overstretch in their roles.\"\\n  },\\n  \"term2\": {\\n    \"term\": \"National Health Mission (NHM)\",\\n    \"explanation\": \"NHM has aimed to increase the quantum of services since its inception in 2005, focusing on improving public healthcare in India.\"\\n  },\\n  \"term3\": {\\n    \"term\": \"Private Sector\",\\n    \"explanation\": \"The private sector is the dominant provider of healthcare services in India, offering quality care and attracting medical tourism.\"\\n  },\\n  \"term4\": {\\n    \"term\": \"Accredited Social Health Activists (ASHA)\",\\n    \"explanation\": \"ASHAs are community health workers that extend the reach of ANMs, serving to increase the accessibility of healthcare services.\"\\n  },\\n  \"term5\": {\\n    \"term\": \"Public Sector\",\\n    \"explanation\": \"The public sector in India is government-funded but has been underfunded, with only 1.28% of GDP allocated to health.\"\\n  },\\n  \"term6\": {\\n    \"term\": \"Federal Health Budget\",\\n    \"explanation\": \"An increase in the federal health budget is seen as an opportunity for healthcare reforms in India.\"\\n  },\\n  \"term7\": {\\n    \"term\": \"India\",\\n    \"explanation\": \"India has a population of 1.3 billion with a lower density of doctors and nurses compared to the World Health Organization (WHO) threshold.\"\\n  }\\n}A hint is given as follows:\\n\"Consider how the National Medical Council (NMC) can leverage its regulatory authority to bridge the gap between the public and private health sectors by focusing on standardizing care quality and training protocols for Auxiliary Nurse Midwives (ANMs) and Accredited Social Health Activists (ASHAs). Additionally, explore the potential of the increased federal health budget to support digital technology adoption and infrastructure development as outlined in the National Health Mission (NHM), ensuring equitable healthcare delivery across rural and urban areas.\"The skill or capability that this question tries to assess is given as follows:\\n\\n\"This question is designed to evaluate your understanding of healthcare policy and regulatory mechanisms, specifically in the context of the National Medical Council (NMC) and its role in addressing disparities between the public and private health sectors in India. The knowledge graph highlights that the NMC has opportunities within healthcare to achieve Sustainable Development Goals (SDGs), indicating its significant regulatory potential.\\n\\nThe question also assesses your knowledge of the roles and challenges faced by Auxiliary Nurse Midwives (ANMs) and Accredited Social Health Activists (ASHAs) in rural healthcare delivery. ANMs are intended to serve a population of 5,000 but often serve up to 20,000, indicating a strain on resources and personnel. ASHAs extend the reach of ANMs, emphasizing the importance of community health workers in bridging gaps in healthcare access.\\n\\nFurthermore, the question examines your grasp of the National Health Mission (NHM) and its objectives to enhance healthcare services since its inception in 2005, particularly in the public sector, which has been historically underfunded with only 1.28% of GDP allocation.\\n\\nThe growing divide between the public and private sectors, where the private sector is perceived to provide quality care and involves booming medical tourism, is a critical aspect of the question. The NMC\\'s role in analyzing and potentially regulating this divide is central to the inquiry.\\n\\nAdditionally, the question tests your awareness of the broader challenges of digital technology adoption and health infrastructure development, which are integral to the NHM\\'s goals. The increase in the federal health budget presents opportunities for healthcare reforms, a factor that the NMC must consider in its regulatory strategies.\\n\\nOverall, this question assesses your ability to synthesize information about healthcare governance, resource allocation, and the interplay between different healthcare providers and initiatives in India.\"'"
      ]
     },
     "execution_count": 15,
     "metadata": {},
     "output_type": "execute_result"
    }
   ],
   "source": [
    "response"
   ]
  },
  {
   "cell_type": "code",
   "execution_count": 16,
   "id": "df43f161-3044-450d-af12-bb55de9095f0",
   "metadata": {},
   "outputs": [
    {
     "name": "stdout",
     "output_type": "stream",
     "text": [
      "Based on your question, here is the information I have gathered:\n",
      "\n",
      "1. Extracted Terminology/Concepts and Explanations:\n",
      "   - National Medical Council (NMC): An organization within healthcare that has opportunities to achieve Sustainable Development Goals (SDGs).\n",
      "   - Auxiliary Nurse Midwives (ANM): Healthcare professionals meant to serve a population of 5,000 but often stretched to serve up to 20,000, indicating a potential overstretch in their roles.\n",
      "   - National Health Mission (NHM): A mission since 2005 aimed at increasing the quantum of services, focusing on improving public healthcare in India.\n",
      "   - Private Sector: Dominant provider of healthcare services in India, offering quality care and attracting medical tourism.\n",
      "   - Accredited Social Health Activists (ASHA): Community health workers that extend the reach of ANMs, increasing the accessibility of healthcare services.\n",
      "   - Public Sector: Government-funded in India but underfunded, with only 1.28% of GDP allocated to health.\n",
      "   - Federal Health Budget: An increase is seen as an opportunity for healthcare reforms in India.\n",
      "   - India: Has a population of 1.3 billion with a lower density of doctors and nurses compared to the World Health Organization (WHO) threshold.\n",
      "\n",
      "2. Global Hint:\n",
      "   \"Consider how the National Medical Council (NMC) can leverage its regulatory authority to bridge the gap between the public and private health sectors by focusing on standardizing care quality and training protocols for Auxiliary Nurse Midwives (ANMs) and Accredited Social Health Activists (ASHAs). Additionally, explore the potential of the increased federal health budget to support digital technology adoption and infrastructure development as outlined in the National Health Mission (NHM), ensuring equitable healthcare delivery across rural and urban areas.\"\n",
      "\n",
      "3. Skill/Capabilities Assessed by the Question:\n",
      "   This question is designed to evaluate your understanding of healthcare policy and regulatory mechanisms, focusing on the National Medical Council's role in addressing disparities between the public and private health sectors in India. It assesses your knowledge of the challenges faced by ANMs and ASHAs in rural healthcare delivery, the objectives of the NHM, and the potential impact of increased federal health budget on healthcare reforms. The question also tests your awareness of digital technology adoption and health infrastructure development, highlighting the NMC's potential regulatory strategies and the importance of equitable healthcare delivery.\n"
     ]
    }
   ],
   "source": [
    "# fuse the responses from agent1-3.\n",
    "\n",
    "answer_fusion = agent5.get_response(user_content=response)['response_content']\n",
    "print(answer_fusion)"
   ]
  },
  {
   "cell_type": "code",
   "execution_count": 17,
   "id": "383b0e4a-4c95-43e8-a0b7-aac59a729d84",
   "metadata": {},
   "outputs": [],
   "source": [
    "# guide user next query; it contains the clarified question and some proposed guiding questions\n",
    "\n",
    "guide = agent4.get_response(user_content=input)['response_content']"
   ]
  },
  {
   "cell_type": "code",
   "execution_count": 18,
   "id": "6289c91e-0096-4eed-abc6-bb72fbfd9547",
   "metadata": {},
   "outputs": [
    {
     "name": "stdout",
     "output_type": "stream",
     "text": [
      "A refined question that clarifies your query and additional questions for your future thought are given as follows:\n",
      "\n",
      "Clarified Question:\n",
      "\"How can the National Medical Council (NMC) address the expanding disparity between the public and private health sectors in India, especially considering the increased dependence on Auxiliary Nurse Midwives (ANMs) and Accredited Social Health Activists (ASHAs) for rural healthcare, and concurrently tackle the challenges of integrating digital technology and enhancing health infrastructure as outlined under the National Health Mission (NHM)?\"\n",
      "\n",
      "Proposed Guiding Questions:\n",
      "1. \"In what specific ways can the NMC leverage its regulatory powers to ensure equitable healthcare delivery between the public and private sectors, particularly in rural areas served by ANMs and ASHAs?\"\n",
      "2. \"How might the NMC utilize the increased federal health budget to bridge the gap between public and private healthcare services and support the NHM's objectives?\"\n",
      "3. \"What strategies could the NMC adopt to promote the adoption of digital technology and improvement of health infrastructure within the public sector without compromising the quality of care provided by the private sector?\"\n"
     ]
    }
   ],
   "source": [
    "print(guide)"
   ]
  },
  {
   "cell_type": "markdown",
   "id": "98968ff6-bcd6-4ed1-875b-82004f544270",
   "metadata": {},
   "source": [
    "#### The asnwer above is more comprehensive; but more tunnings will go on..."
   ]
  }
 ],
 "metadata": {
  "kernelspec": {
   "display_name": "env0",
   "language": "python",
   "name": "python3"
  },
  "language_info": {
   "codemirror_mode": {
    "name": "ipython",
    "version": 3
   },
   "file_extension": ".py",
   "mimetype": "text/x-python",
   "name": "python",
   "nbconvert_exporter": "python",
   "pygments_lexer": "ipython3",
   "version": "3.12.0"
  }
 },
 "nbformat": 4,
 "nbformat_minor": 5
}
