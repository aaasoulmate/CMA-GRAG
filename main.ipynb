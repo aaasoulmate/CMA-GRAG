{
 "cells": [
  {
   "cell_type": "code",
   "execution_count": 1,
   "id": "e6686020-f3ab-41f9-a80c-d60816ba2921",
   "metadata": {},
   "outputs": [],
   "source": [
    "from utils.agents import *\n",
    "from utils.embedding import *\n",
    "from utils.json_extract import *\n",
    "from utils.kg_functions import *\n",
    "from utils.retrieval import *"
   ]
  },
  {
   "cell_type": "markdown",
   "id": "999574b6-d4dc-427c-b2bc-b83f657e85cf",
   "metadata": {},
   "source": [
    "### Building a Knowledge Graph from a txt\n",
    "\n",
    "#### Here, we use the paper as the material, refer to [India's Opportunity to Address Human Resource Challenges](https://pubmed.ncbi.nlm.nih.gov/37448434/#:~:text=The%20paucity%20of%20skilled%20personnel%20must%20be%20addressed,budget%20offers%20an%20unprecedented%20opportunity%20to%20do%20this)"
   ]
  },
  {
   "cell_type": "code",
   "execution_count": 2,
   "id": "7130981f-c4d2-4d26-8516-eb6742d9a468",
   "metadata": {},
   "outputs": [],
   "source": [
    "try:\n",
    "    with open('./prompts/graph.txt', 'r', encoding='utf-8') as file:\n",
    "        KG_task  = file.read()\n",
    "except FileNotFoundError:\n",
    "    res = \"File not found.\"\n",
    "\n",
    "api_key = \"531e9c858c9d4dc1d9295dbf0cdf20e5.zjSejRW3PHh8015f\"\n",
    "agent_KG = Agent(api_key=api_key, model_name=\"glm-4-long\", system_content=KG_task )"
   ]
  },
  {
   "cell_type": "code",
   "execution_count": 3,
   "id": "82d6d750-0647-4292-a921-132cd17fb81a",
   "metadata": {},
   "outputs": [],
   "source": [
    "file_path = \"./datasets/cureus-0015-00000040274.txt\"\n",
    "\n",
    "# Opening and reading the file\n",
    "try:\n",
    "    with open(file_path, 'r', encoding='utf-8') as file:\n",
    "        document_content = file.read()\n",
    "except FileNotFoundError:\n",
    "    document_content = \"The specified file path was not found.\"\n",
    "\n",
    "extracted_content = agent_KG.get_response(user_content=document_content)['response_content']\n",
    "extracted_json = clean_and_extract_json(extracted_content)"
   ]
  },
  {
   "cell_type": "code",
   "execution_count": 4,
   "id": "0e8d8e2f-a712-40af-93d5-2d387907396e",
   "metadata": {},
   "outputs": [
    {
     "data": {
      "text/plain": [
       "{'nodes': [{'id': 0,\n",
       "   'name': \"India's health indicators\",\n",
       "   'explanation': 'Improved but lag behind peer nations.'},\n",
       "  {'id': 1,\n",
       "   'name': 'WHO threshold',\n",
       "   'explanation': 'Recommended 44.5 doctors, nurses, and midwives per 10,000 population.'},\n",
       "  {'id': 2,\n",
       "   'name': 'Public health sector',\n",
       "   'explanation': 'Underfunded, provides healthcare to vulnerable populations.'},\n",
       "  {'id': 3,\n",
       "   'name': 'Private health sector',\n",
       "   'explanation': 'Dominant provider of healthcare, perceived to provide quality care.'},\n",
       "  {'id': 4,\n",
       "   'name': 'National Health Mission (NHM)',\n",
       "   'explanation': 'Aims to increase healthcare services, focuses on primary healthcare.'},\n",
       "  {'id': 5,\n",
       "   'name': 'Accredited Social Health Activists (ASHA)',\n",
       "   'explanation': 'Female community health workers, serve to increase reach of healthcare.'},\n",
       "  {'id': 6,\n",
       "   'name': 'Auxiliary Nurse Midwives (ANM)',\n",
       "   'explanation': 'Healthcare workers serving a population of 5,000 to 20,000 people.'},\n",
       "  {'id': 7,\n",
       "   'name': 'Rural Medical Assistants (RMA)',\n",
       "   'explanation': 'Contractual health workers, similar to physician assistants.'},\n",
       "  {'id': 8,\n",
       "   'name': 'National Medical Council (NMC)',\n",
       "   'explanation': 'Replaced Medical Commission, aims to improve regulation of health professionals.'},\n",
       "  {'id': 9,\n",
       "   'name': 'Ayushman Bharat',\n",
       "   'explanation': 'Publicly financed health insurance scheme for the poor.'},\n",
       "  {'id': 10,\n",
       "   'name': 'National Health Protection Mission',\n",
       "   'explanation': 'Limited uptake, majority of Indians still without health insurance.'},\n",
       "  {'id': 11,\n",
       "   'name': 'Digital technologies',\n",
       "   'explanation': 'Used to facilitate vaccination programs and enhance personalized care.'},\n",
       "  {'id': 12,\n",
       "   'name': 'Telemedicine',\n",
       "   'explanation': 'Increased during COVID-19, helps overcome healthcare access barriers.'}],\n",
       " 'edges': [{'id': '0to1',\n",
       "   'content': \"India's health indicators are below the WHO threshold.\"},\n",
       "  {'id': '2to0',\n",
       "   'content': \"Public health sector issues contribute to India's lagging health indicators.\"},\n",
       "  {'id': '3to0',\n",
       "   'content': \"Private health sector issues also contribute to India's lagging health indicators.\"},\n",
       "  {'id': '4to5', 'content': 'NHM created ASHAs to increase healthcare reach.'},\n",
       "  {'id': '4to6', 'content': 'NHM utilizes ANMs for healthcare services.'},\n",
       "  {'id': '4to7', 'content': 'NHM employs RMAs for primary healthcare.'},\n",
       "  {'id': '8to0',\n",
       "   'content': 'NMC aims to improve regulation to address health indicators.'},\n",
       "  {'id': '9to0',\n",
       "   'content': 'Ayushman Bharat targets improved health indicators.'},\n",
       "  {'id': '10to9',\n",
       "   'content': 'National Health Protection Mission is part of Ayushman Bharat.'},\n",
       "  {'id': '11to0',\n",
       "   'content': \"Digital technologies can improve India's health indicators.\"},\n",
       "  {'id': '12to0',\n",
       "   'content': 'Telemedicine can improve healthcare access and health indicators.'}]}"
      ]
     },
     "execution_count": 4,
     "metadata": {},
     "output_type": "execute_result"
    }
   ],
   "source": [
    "extracted_json"
   ]
  },
  {
   "cell_type": "markdown",
   "id": "3824cc24-54f5-4da6-91ad-b32a220cf47e",
   "metadata": {},
   "source": [
    "### Retrieve From this KG using a query"
   ]
  },
  {
   "cell_type": "code",
   "execution_count": 5,
   "id": "60f2521f-274f-46c5-bb83-131fd03ee568",
   "metadata": {},
   "outputs": [],
   "source": [
    "query = 'How can the National Medical Council (NMC) regulate the growing divide between the public and private health sectors in India, particularly in light of the increasing reliance on Auxiliary Nurse Midwives (ANMs) and Accredited Social Health Activists (ASHAs) for rural healthcare delivery, while addressing the broader challenges of digital technology adoption and health infrastructure development as outlined in the National Health Mission (NHM)?'\n",
    "beta_1 = 3\n",
    "alpha_1 = 1\n",
    "alpha_2 = 2\n",
    "retreival_res = R(query, extracted_json, alpha_1, alpha_2, beta_1)\n",
    "retreival_res = json.dumps(retreival_res, ensure_ascii=False, indent=4)"
   ]
  },
  {
   "cell_type": "code",
   "execution_count": 6,
   "id": "1b30fb08-75ac-46bb-8030-2791e4c293bb",
   "metadata": {},
   "outputs": [
    {
     "data": {
      "text/plain": [
       "'{\\n    \"concepts_id/name/explanation_and_similarity_sorted\": [\\n        {\\n            \"id\": 8,\\n            \"name\": \"National Medical Council (NMC)\",\\n            \"explanation\": \"Replaced Medical Commission, aims to improve regulation of health professionals.\",\\n            \"similarity_score\": 0.7361299395796563\\n        },\\n        {\\n            \"id\": 0,\\n            \"name\": \"India\\'s health indicators\",\\n            \"explanation\": \"Improved but lag behind peer nations.\",\\n            \"similarity_score\": 0.6073716307823804\\n        },\\n        {\\n            \"id\": 4,\\n            \"name\": \"National Health Mission (NHM)\",\\n            \"explanation\": \"Aims to increase healthcare services, focuses on primary healthcare.\",\\n            \"similarity_score\": 0.7193918994073849\\n        },\\n        {\\n            \"id\": 5,\\n            \"name\": \"Accredited Social Health Activists (ASHA)\",\\n            \"explanation\": \"Female community health workers, serve to increase reach of healthcare.\",\\n            \"similarity_score\": 0.5980518805472382\\n        },\\n        {\\n            \"id\": 6,\\n            \"name\": \"Auxiliary Nurse Midwives (ANM)\",\\n            \"explanation\": \"Healthcare workers serving a population of 5,000 to 20,000 people.\",\\n            \"similarity_score\": 0.6692894942678469\\n        },\\n        {\\n            \"id\": 7,\\n            \"name\": \"Rural Medical Assistants (RMA)\",\\n            \"explanation\": \"Contractual health workers, similar to physician assistants.\",\\n            \"similarity_score\": 0.5694689672768122\\n        }\\n    ],\\n    \"complete_relations\": [\\n        {\\n            \"from\": \"National Medical Council (NMC)\",\\n            \"to\": \"India\\'s health indicators\",\\n            \"relation\": \"NMC aims to improve regulation to address health indicators.\"\\n        },\\n        {\\n            \"from\": \"National Medical Council (NMC)\",\\n            \"to\": \"WHO threshold\",\\n            \"relation\": \"India\\'s health indicators are below the WHO threshold.\"\\n        },\\n        {\\n            \"from\": \"National Medical Council (NMC)\",\\n            \"to\": \"Public health sector\",\\n            \"relation\": \"Public health sector issues contribute to India\\'s lagging health indicators.\"\\n        },\\n        {\\n            \"from\": \"National Medical Council (NMC)\",\\n            \"to\": \"Private health sector\",\\n            \"relation\": \"Private health sector issues also contribute to India\\'s lagging health indicators.\"\\n        },\\n        {\\n            \"from\": \"National Medical Council (NMC)\",\\n            \"to\": \"Ayushman Bharat\",\\n            \"relation\": \"Ayushman Bharat targets improved health indicators.\"\\n        },\\n        {\\n            \"from\": \"National Medical Council (NMC)\",\\n            \"to\": \"Digital technologies\",\\n            \"relation\": \"Digital technologies can improve India\\'s health indicators.\"\\n        },\\n        {\\n            \"from\": \"National Medical Council (NMC)\",\\n            \"to\": \"Telemedicine\",\\n            \"relation\": \"Telemedicine can improve healthcare access and health indicators.\"\\n        },\\n        {\\n            \"from\": \"India\\'s health indicators\",\\n            \"to\": \"WHO threshold\",\\n            \"relation\": \"India\\'s health indicators are below the WHO threshold.\"\\n        },\\n        {\\n            \"from\": \"India\\'s health indicators\",\\n            \"to\": \"Public health sector\",\\n            \"relation\": \"Public health sector issues contribute to India\\'s lagging health indicators.\"\\n        },\\n        {\\n            \"from\": \"India\\'s health indicators\",\\n            \"to\": \"Private health sector\",\\n            \"relation\": \"Private health sector issues also contribute to India\\'s lagging health indicators.\"\\n        },\\n        {\\n            \"from\": \"India\\'s health indicators\",\\n            \"to\": \"National Medical Council (NMC)\",\\n            \"relation\": \"NMC aims to improve regulation to address health indicators.\"\\n        },\\n        {\\n            \"from\": \"India\\'s health indicators\",\\n            \"to\": \"Ayushman Bharat\",\\n            \"relation\": \"Ayushman Bharat targets improved health indicators.\"\\n        },\\n        {\\n            \"from\": \"India\\'s health indicators\",\\n            \"to\": \"Digital technologies\",\\n            \"relation\": \"Digital technologies can improve India\\'s health indicators.\"\\n        },\\n        {\\n            \"from\": \"India\\'s health indicators\",\\n            \"to\": \"Telemedicine\",\\n            \"relation\": \"Telemedicine can improve healthcare access and health indicators.\"\\n        },\\n        {\\n            \"from\": \"India\\'s health indicators\",\\n            \"to\": \"National Health Protection Mission\",\\n            \"relation\": \"National Health Protection Mission is part of Ayushman Bharat.\"\\n        },\\n        {\\n            \"from\": \"National Health Mission (NHM)\",\\n            \"to\": \"Accredited Social Health Activists (ASHA)\",\\n            \"relation\": \"NHM created ASHAs to increase healthcare reach.\"\\n        },\\n        {\\n            \"from\": \"National Health Mission (NHM)\",\\n            \"to\": \"Auxiliary Nurse Midwives (ANM)\",\\n            \"relation\": \"NHM utilizes ANMs for healthcare services.\"\\n        },\\n        {\\n            \"from\": \"National Health Mission (NHM)\",\\n            \"to\": \"Rural Medical Assistants (RMA)\",\\n            \"relation\": \"NHM employs RMAs for primary healthcare.\"\\n        },\\n        {\\n            \"from\": \"Accredited Social Health Activists (ASHA)\",\\n            \"to\": \"National Health Mission (NHM)\",\\n            \"relation\": \"NHM created ASHAs to increase healthcare reach.\"\\n        },\\n        {\\n            \"from\": \"Accredited Social Health Activists (ASHA)\",\\n            \"to\": \"Auxiliary Nurse Midwives (ANM)\",\\n            \"relation\": \"NHM utilizes ANMs for healthcare services.\"\\n        },\\n        {\\n            \"from\": \"Accredited Social Health Activists (ASHA)\",\\n            \"to\": \"Rural Medical Assistants (RMA)\",\\n            \"relation\": \"NHM employs RMAs for primary healthcare.\"\\n        },\\n        {\\n            \"from\": \"Auxiliary Nurse Midwives (ANM)\",\\n            \"to\": \"National Health Mission (NHM)\",\\n            \"relation\": \"NHM utilizes ANMs for healthcare services.\"\\n        },\\n        {\\n            \"from\": \"Auxiliary Nurse Midwives (ANM)\",\\n            \"to\": \"Accredited Social Health Activists (ASHA)\",\\n            \"relation\": \"NHM created ASHAs to increase healthcare reach.\"\\n        },\\n        {\\n            \"from\": \"Auxiliary Nurse Midwives (ANM)\",\\n            \"to\": \"Rural Medical Assistants (RMA)\",\\n            \"relation\": \"NHM employs RMAs for primary healthcare.\"\\n        },\\n        {\\n            \"from\": \"Rural Medical Assistants (RMA)\",\\n            \"to\": \"National Health Mission (NHM)\",\\n            \"relation\": \"NHM employs RMAs for primary healthcare.\"\\n        },\\n        {\\n            \"from\": \"Rural Medical Assistants (RMA)\",\\n            \"to\": \"Accredited Social Health Activists (ASHA)\",\\n            \"relation\": \"NHM created ASHAs to increase healthcare reach.\"\\n        },\\n        {\\n            \"from\": \"Rural Medical Assistants (RMA)\",\\n            \"to\": \"Auxiliary Nurse Midwives (ANM)\",\\n            \"relation\": \"NHM utilizes ANMs for healthcare services.\"\\n        }\\n    ]\\n}'"
      ]
     },
     "execution_count": 6,
     "metadata": {},
     "output_type": "execute_result"
    }
   ],
   "source": [
    "retreival_res"
   ]
  },
  {
   "cell_type": "markdown",
   "id": "344fcec2-2b16-4111-956f-91fd02e84ddd",
   "metadata": {},
   "source": [
    "### Construct multi agents provided for users"
   ]
  },
  {
   "cell_type": "code",
   "execution_count": 7,
   "id": "7d972af7-11e0-40ad-9bfd-e4d7030ede52",
   "metadata": {},
   "outputs": [],
   "source": [
    "file_path = './prompts/'\n",
    "dirs = ['agent1.txt', 'agent2.txt', 'agent3.txt', 'agent4.txt', 'fusion.txt']\n",
    "\n",
    "# Reading the content of files and storing them in the 'tasks' dictionary directly\n",
    "tasks = {key: open(f\"{file_path}{key}\", 'r', encoding='utf-8').read() for key in dirs}"
   ]
  },
  {
   "cell_type": "code",
   "execution_count": 9,
   "id": "3034bcb6-dcb4-46ec-820b-75e84d663f1e",
   "metadata": {},
   "outputs": [],
   "source": [
    "file_path = './prompts/'\n",
    "dirs = ['agent1.txt', 'agent2.txt', 'agent3.txt', 'agent4.txt', 'fusion.txt']\n",
    "\n",
    "# Reading the content of files and storing them in the 'tasks' dictionary directly\n",
    "tasks = {key: open(f\"{file_path}{key}\", 'r', encoding='utf-8').read() for key in dirs}\n",
    "\n",
    "# Renaming the keys in the 'tasks' dictionary\n",
    "tasks = {\n",
    "    'concepts': tasks['agent1.txt'] + retreival_res,\n",
    "    'hint': tasks['agent2.txt'] + retreival_res,\n",
    "    'assess': tasks['agent3.txt'] + retreival_res,\n",
    "    'questions': tasks['agent4.txt'] + retreival_res,\n",
    "    'fusion': tasks['fusion.txt']\n",
    "}\n",
    "\n",
    "agents = {}\n",
    "api_key = \"531e9c858c9d4dc1d9295dbf0cdf20e5.zjSejRW3PHh8015f\"\n",
    "llms_list = [\"glm-4\", \"glm-4-plus\", \"glm-4-long\", \"glm-4-0520\", \"glm-4-flash\"]\n",
    "\n",
    "# Loop to initialize Agent instances for each LLM and task content, and create a dictionary with LLM+task as keys\n",
    "for i in llms_list:\n",
    "    for task_name, task_content in tasks.items():\n",
    "        key = f\"{i}_{task_name}\"  # Create a key by combining LLM model name and task name\n",
    "        agents[key] = Agent(api_key=api_key, model_name=i, system_content=task_content)"
   ]
  },
  {
   "cell_type": "markdown",
   "id": "1d36ae76-d972-4b94-87b0-9ad9b1eddcb1",
   "metadata": {},
   "source": [
    "#### Testing an Agent"
   ]
  },
  {
   "cell_type": "code",
   "execution_count": 11,
   "id": "b999f7dc-3628-4a10-b45b-2b344b6ddac4",
   "metadata": {},
   "outputs": [
    {
     "name": "stdout",
     "output_type": "stream",
     "text": [
      "The reponse is \n",
      "Based on the external knowledge graph provided, here is the explanation for the term \"National Medical Council (NMC)\":\n",
      "\n",
      "```json\n",
      "{\n",
      "  \"term0\": {\n",
      "    \"term\": \"National Medical Council (NMC)\",\n",
      "    \"explanation\": \"Replaced Medical Commission, aims to improve regulation of health professionals.\"\n",
      "  }\n",
      "}\n",
      "```\n",
      "\n",
      "The National Medical Council (NMC) is an entity that has replaced the previous Medical Commission. Its primary goal is to enhance the regulation of health professionals, ensuring better standards and practices within the healthcare sector.\n"
     ]
    }
   ],
   "source": [
    "a0 = agents[\"glm-4-plus_concepts\"]\n",
    "user_input = \"\"\"\n",
    "What do  the National Medical Council (NMC) mean?\n",
    "\"\"\"\n",
    "res0 = a0.get_response(user_content=user_input)['response_content']\n",
    "print(\"The reponse is\" + \" \\n\" + res0)"
   ]
  },
  {
   "cell_type": "markdown",
   "id": "79f7a08c-f7e7-4d67-816f-9ec524bd5938",
   "metadata": {},
   "source": [
    "### Choose 5 agents"
   ]
  },
  {
   "cell_type": "code",
   "execution_count": 13,
   "id": "166d2a4b-e0c5-481c-8291-8a4336f66908",
   "metadata": {},
   "outputs": [],
   "source": [
    "agent1 = agents[\"glm-4-flash_concepts\"]  # Responsible for handling the 'concepts' task using the 'glm-4-flash' model\n",
    "agent2 = agents[\"glm-4-plus_hint\"]       # Handles the 'hint' task using the 'glm-4-plus' model\n",
    "agent3 = agents[\"glm-4-plus_assess\"]     # Manages the 'assess' task using the 'glm-4-plus' model\n",
    "agent4 = agents[\"glm-4-0520_questions\"]  # Processes the 'questions' task using the 'glm-4-0520' model\n",
    "agent5 = agents[\"glm-4-flash_fusion\"]    # Takes care of the 'fusion' task using the 'glm-4-flash' model"
   ]
  },
  {
   "cell_type": "markdown",
   "id": "2fe7aeef-852c-439c-b9b0-91313d42c4ee",
   "metadata": {},
   "source": [
    "### Generate responses and Fuse them"
   ]
  },
  {
   "cell_type": "code",
   "execution_count": 14,
   "id": "e5f37c85-93c4-42d9-9be2-f5c563ba00da",
   "metadata": {},
   "outputs": [],
   "source": [
    "agents_parallel = [agent1, agent2, agent3, agent4]\n",
    "\n",
    "response = \"\"\n",
    "\n",
    "for agent in agents_parallel:\n",
    "    res = agent.get_response(user_content=query)['response_content']\n",
    "    response += res"
   ]
  },
  {
   "cell_type": "code",
   "execution_count": 16,
   "id": "df43f161-3044-450d-af12-bb55de9095f0",
   "metadata": {},
   "outputs": [
    {
     "data": {
      "text/plain": [
       "'### Response Integration\\n\\n#### Terms and Their Explanations\\n\\n1. **National Medical Council (NMC)**: The NMC, which has replaced the Medical Commission, is a regulatory body in India responsible for enhancing the regulation of health professionals. Its aim is to improve the quality and standard of healthcare in the country.\\n\\n2. **Public and Private Health Sectors**: These sectors within the healthcare system are distinct. The public sector includes government-run hospitals and services, whereas the private sector encompasses healthcare services provided by private entities.\\n\\n3. **Rural Healthcare Delivery**: This pertains to the provision of healthcare services in rural areas, which often encounter challenges due to geographical isolation, limited resources, and lower access to quality healthcare compared to urban areas.\\n\\n4. **Auxiliary Nurse Midwives (ANMs)**: ANMs are female community health workers trained to provide primary healthcare services, including maternal and child health care, in rural areas.\\n\\n5. **Accredited Social Health Activists (ASHAs)**: ASHAs are community-based health workers serving as a bridge between the rural population and the formal health system, promoting preventive and primary healthcare, particularly for women and children.\\n\\n6. **Digital Technology Adoption**: This refers to the integration of digital technologies into healthcare services to improve efficiency, accessibility, and the quality of care.\\n\\n7. **Health Infrastructure Development**: This involves the construction and improvement of healthcare facilities and services to meet the growing demand for quality healthcare.\\n\\n#### Global Hint\\nTo address the growing divide between the public and private health sectors in India, the NMC can consider implementing strategies such as strengthening regulations, ensuring adequate resource allocation, promoting technology integration, investing in health infrastructure, and formulating supportive policies.\\n\\n#### Refined Question\\n\"How can the NMC effectively regulate and bridge the gap between the public and private health sectors in India, leveraging the roles of ANMs and ASHAs in rural healthcare, and addressing the challenges of integrating digital technologies and developing health infrastructure as part of the NHM?\"\\n\\n### Final Response\\n\\nThe National Medical Council (NMC) plays a pivotal role in the Indian healthcare system, focusing on the regulation of health professionals and the enhancement of healthcare standards. To address the disparities between the public and private health sectors in India, the NMC can take several strategic actions.\\n\\nFirstly, the NMC should enforce stricter regulations on both public and private healthcare providers to ensure equitable and high-quality care delivery. This includes setting uniform standards and qualifications for health professionals across sectors.\\n\\nSecondly, the NMC can support the effective integration of rural healthcare delivery systems by leveraging the roles of Auxiliary Nurse Midwives (ANMs) and Accredited Social Health Activists (ASHAs). These community health workers are crucial in reaching underserved areas and providing essential primary healthcare services.\\n\\nAdditionally, the NMC should promote the adoption of digital technologies within the healthcare framework. By integrating digital tools, such as telemedicine and health information systems, the NMC can improve the efficiency and accessibility of healthcare services, particularly in rural and remote areas.\\n\\nFurthermore, health infrastructure development is a critical aspect that the NMC can address. By investing in the construction and improvement of healthcare facilities, the NMC can ensure a more equitable distribution of healthcare services across the country.\\n\\nLastly, the NMC should work on formulating policies that encourage collaboration between the public and private sectors. This could involve creating partnerships to maximize the impact of both sectors and to support the goals of the National Health Mission (NHM).\\n\\nIn summary, the NMC\\'s regulatory oversight, strategic use of ANMs and ASHAs, promotion of digital technology, investment in health infrastructure, and supportive policy development are key to bridging the gap between the public and private health sectors in India and improving the overall health of the nation.'"
      ]
     },
     "execution_count": 16,
     "metadata": {},
     "output_type": "execute_result"
    }
   ],
   "source": [
    "answer_fusion = agent5.get_response(user_content=response)['response_content']\n",
    "answer_fusion"
   ]
  },
  {
   "cell_type": "code",
   "execution_count": 17,
   "id": "f43b9f1e-94c8-4da3-8b9f-8cdabcde6bf7",
   "metadata": {},
   "outputs": [
    {
     "name": "stdout",
     "output_type": "stream",
     "text": [
      "### Response Integration\n",
      "\n",
      "#### Terms and Their Explanations\n",
      "\n",
      "1. **National Medical Council (NMC)**: The NMC, which has replaced the Medical Commission, is a regulatory body in India responsible for enhancing the regulation of health professionals. Its aim is to improve the quality and standard of healthcare in the country.\n",
      "\n",
      "2. **Public and Private Health Sectors**: These sectors within the healthcare system are distinct. The public sector includes government-run hospitals and services, whereas the private sector encompasses healthcare services provided by private entities.\n",
      "\n",
      "3. **Rural Healthcare Delivery**: This pertains to the provision of healthcare services in rural areas, which often encounter challenges due to geographical isolation, limited resources, and lower access to quality healthcare compared to urban areas.\n",
      "\n",
      "4. **Auxiliary Nurse Midwives (ANMs)**: ANMs are female community health workers trained to provide primary healthcare services, including maternal and child health care, in rural areas.\n",
      "\n",
      "5. **Accredited Social Health Activists (ASHAs)**: ASHAs are community-based health workers serving as a bridge between the rural population and the formal health system, promoting preventive and primary healthcare, particularly for women and children.\n",
      "\n",
      "6. **Digital Technology Adoption**: This refers to the integration of digital technologies into healthcare services to improve efficiency, accessibility, and the quality of care.\n",
      "\n",
      "7. **Health Infrastructure Development**: This involves the construction and improvement of healthcare facilities and services to meet the growing demand for quality healthcare.\n",
      "\n",
      "#### Global Hint\n",
      "To address the growing divide between the public and private health sectors in India, the NMC can consider implementing strategies such as strengthening regulations, ensuring adequate resource allocation, promoting technology integration, investing in health infrastructure, and formulating supportive policies.\n",
      "\n",
      "#### Refined Question\n",
      "\"How can the NMC effectively regulate and bridge the gap between the public and private health sectors in India, leveraging the roles of ANMs and ASHAs in rural healthcare, and addressing the challenges of integrating digital technologies and developing health infrastructure as part of the NHM?\"\n",
      "\n",
      "### Final Response\n",
      "\n",
      "The National Medical Council (NMC) plays a pivotal role in the Indian healthcare system, focusing on the regulation of health professionals and the enhancement of healthcare standards. To address the disparities between the public and private health sectors in India, the NMC can take several strategic actions.\n",
      "\n",
      "Firstly, the NMC should enforce stricter regulations on both public and private healthcare providers to ensure equitable and high-quality care delivery. This includes setting uniform standards and qualifications for health professionals across sectors.\n",
      "\n",
      "Secondly, the NMC can support the effective integration of rural healthcare delivery systems by leveraging the roles of Auxiliary Nurse Midwives (ANMs) and Accredited Social Health Activists (ASHAs). These community health workers are crucial in reaching underserved areas and providing essential primary healthcare services.\n",
      "\n",
      "Additionally, the NMC should promote the adoption of digital technologies within the healthcare framework. By integrating digital tools, such as telemedicine and health information systems, the NMC can improve the efficiency and accessibility of healthcare services, particularly in rural and remote areas.\n",
      "\n",
      "Furthermore, health infrastructure development is a critical aspect that the NMC can address. By investing in the construction and improvement of healthcare facilities, the NMC can ensure a more equitable distribution of healthcare services across the country.\n",
      "\n",
      "Lastly, the NMC should work on formulating policies that encourage collaboration between the public and private sectors. This could involve creating partnerships to maximize the impact of both sectors and to support the goals of the National Health Mission (NHM).\n",
      "\n",
      "In summary, the NMC's regulatory oversight, strategic use of ANMs and ASHAs, promotion of digital technology, investment in health infrastructure, and supportive policy development are key to bridging the gap between the public and private health sectors in India and improving the overall health of the nation.\n"
     ]
    }
   ],
   "source": [
    "print(answer_fusion)"
   ]
  },
  {
   "cell_type": "markdown",
   "id": "98968ff6-bcd6-4ed1-875b-82004f544270",
   "metadata": {},
   "source": [
    "#### The asnwer above is more comprehensive; but more tunning will go on..."
   ]
  },
  {
   "cell_type": "code",
   "execution_count": null,
   "id": "290c6114-2518-41e0-9d6e-cfc796a8352b",
   "metadata": {},
   "outputs": [],
   "source": []
  }
 ],
 "metadata": {
  "kernelspec": {
   "display_name": "Python 3 (ipykernel)",
   "language": "python",
   "name": "python3"
  },
  "language_info": {
   "codemirror_mode": {
    "name": "ipython",
    "version": 3
   },
   "file_extension": ".py",
   "mimetype": "text/x-python",
   "name": "python",
   "nbconvert_exporter": "python",
   "pygments_lexer": "ipython3",
   "version": "3.12.3"
  }
 },
 "nbformat": 4,
 "nbformat_minor": 5
}
