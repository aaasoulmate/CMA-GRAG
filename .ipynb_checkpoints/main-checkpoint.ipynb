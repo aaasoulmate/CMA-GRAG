{
 "cells": [
  {
   "cell_type": "code",
   "execution_count": 1,
   "id": "e6686020-f3ab-41f9-a80c-d60816ba2921",
   "metadata": {},
   "outputs": [],
   "source": [
    "from utils.agents import *\n",
    "from utils.embedding import *\n",
    "from utils.json_extract import *\n",
    "from utils.kg_functions import *\n",
    "from utils.retrieval import *"
   ]
  },
  {
   "cell_type": "markdown",
   "id": "999574b6-d4dc-427c-b2bc-b83f657e85cf",
   "metadata": {},
   "source": [
    "### Building a Knowledge Graph from a txt\n",
    "\n",
    "#### Here, we use the paper as the material, refer to [India's Opportunity to Address Human Resource Challenges](https://pubmed.ncbi.nlm.nih.gov/37448434/#:~:text=The%20paucity%20of%20skilled%20personnel%20must%20be%20addressed,budget%20offers%20an%20unprecedented%20opportunity%20to%20do%20this)"
   ]
  },
  {
   "cell_type": "code",
   "execution_count": 15,
   "id": "7130981f-c4d2-4d26-8516-eb6742d9a468",
   "metadata": {},
   "outputs": [],
   "source": [
    "try:\n",
    "    with open('./prompts/graph.txt', 'r', encoding='utf-8') as file:\n",
    "        KG_task  = file.read()\n",
    "except FileNotFoundError:\n",
    "    res = \"File not found.\"\n",
    "\n",
    "api_key = \"3a96f3438411dfd81700ce172c4e5b89.fSLyWokcvYectqvI\" # You should put your API_KEY HERE\n",
    "agent_KG = Agent(api_key=api_key, model_name=\"glm-4-long\", system_content=KG_task )"
   ]
  },
  {
   "cell_type": "code",
   "execution_count": 16,
   "id": "82d6d750-0647-4292-a921-132cd17fb81a",
   "metadata": {},
   "outputs": [],
   "source": [
    "file_path = \"./datasets/cureus-0015-00000040274.txt\"\n",
    "\n",
    "# Opening and reading the file\n",
    "try:\n",
    "    with open(file_path, 'r', encoding='utf-8') as file:\n",
    "        document_content = file.read()\n",
    "except FileNotFoundError:\n",
    "    document_content = \"The specified file path was not found.\"\n",
    "\n",
    "extracted_content = agent_KG.get_response(user_content=document_content)['response_content']\n",
    "extracted_json = clean_and_extract_json(extracted_content)"
   ]
  },
  {
   "cell_type": "code",
   "execution_count": 14,
   "id": "f1a3d176-e0e9-4c39-b0ca-11acfb08bde9",
   "metadata": {},
   "outputs": [
    {
     "data": {
      "text/plain": [
       "'Based on the provided essay, I will extract key terminologies (nodes) and relationships (edges) to represent the knowledge in JSON format. Here is the structured JSON data:\\n\\n```json\\n{\\n  \"nodes\": [\\n    {\\n      \"id\": 0,\\n      \"name\": \"India\\'s Health Indicators\",\\n      \"explanation\": \"Health metrics that reflect the overall health status of India\\'s population.\"\\n    },\\n    {\\n      \"id\": 1,\\n      \"name\": \"Health Workers Density\",\\n      \"explanation\": \"The number of doctors and nurses/midwives per 10,000 persons in India.\"\\n    },\\n    {\\n      \"id\": 2,\\n      \"name\": \"WHO Threshold\",\\n      \"explanation\": \"Recommended number of doctors, nurses, and midwives per 10,000 population by the World Health Organization.\"\\n    },\\n    {\\n      \"id\": 3,\\n      \"name\": \"Public-Private Sector Divide\",\\n      \"explanation\": \"The disparity in healthcare provision between public and private sectors in India.\"\\n    },\\n    {\\n      \"id\": 4,\\n      \"name\": \"Universal Health Coverage\",\\n      \"explanation\": \"Ensuring that all people have access to needed healthcare services without financial hardship.\"\\n    },\\n    {\\n      \"id\": 5,\\n      \"name\": \"Sustainable Development Goals (SDGs)\",\\n      \"explanation\": \"Global goals set by the United Nations to achieve a better and more sustainable future for all.\"\\n    },\\n    {\\n      \"id\": 6,\\n      \"name\": \"National Health Mission (NHM)\",\\n      \"explanation\": \"A government initiative to improve healthcare services in India.\"\\n    },\\n    {\\n      \"id\": 7,\\n      \"name\": \"Accredited Social Health Activists (ASHA)\",\\n      \"explanation\": \"Female community health workers in India.\"\\n    },\\n    {\\n      \"id\": 8,\\n      \"name\": \"Auxiliary Nurse Midwives (ANM)\",\\n      \"explanation\": \"Government-employed healthcare workers providing primary healthcare.\"\\n    },\\n    {\\n      \"id\": 9,\\n      \"name\": \"Rural Medical Assistants (RMA)\",\\n      \"explanation\": \"Diploma holders providing healthcare in rural areas.\"\\n    },\\n    {\\n      \"id\": 10,\\n      \"name\": \"Ayushman Bharat\",\\n      \"explanation\": \"A publicly financed health insurance scheme for the poor in India.\"\\n    },\\n    {\\n      \"id\": 11,\\n      \"name\": \"National Medical Council (NMC)\",\\n      \"explanation\": \"Regulatory body for medical education and professionals in India.\"\\n    },\\n    {\\n      \"id\": 12,\\n      \"name\": \"Digital Technologies in Healthcare\",\\n      \"explanation\": \"Use of digital tools to enhance healthcare delivery and management.\"\\n    }\\n  ],\\n  \"edges\": [\\n    {\\n      \"id\": \"0to1\",\\n      \"content\": \"India\\'s health indicators are influenced by the density of health workers.\"\\n    },\\n    {\\n      \"id\": \"1to0\",\\n      \"content\": \"Health workers density affects India\\'s health indicators.\"\\n    },\\n    {\\n      \"id\": \"1to2\",\\n      \"content\": \"Health workers density in India is compared to the WHO threshold.\"\\n    },\\n    {\\n      \"id\": \"2to1\",\\n      \"content\": \"The WHO threshold serves as a benchmark for India\\'s health workers density.\"\\n    },\\n    {\\n      \"id\": \"0to3\",\\n      \"content\": \"India\\'s health indicators reflect the public-private sector divide.\"\\n    },\\n    {\\n      \"id\": \"3to0\",\\n      \"content\": \"The public-private sector divide impacts India\\'s health indicators.\"\\n    },\\n    {\\n      \"id\": \"4to0\",\\n      \"content\": \"Achieving universal health coverage is a goal for improving India\\'s health indicators.\"\\n    },\\n    {\\n      \"id\": \"0to4\",\\n      \"content\": \"India\\'s health indicators are a measure of progress toward universal health coverage.\"\\n    },\\n    {\\n      \"id\": \"5to0\",\\n      \"content\": \"Improving health indicators is essential for achieving SDGs.\"\\n    },\\n    {\\n      \"id\": \"0to5\",\\n      \"content\": \"India\\'s health indicators are relevant to its SDGs.\"\\n    },\\n    {\\n      \"id\": \"6to0\",\\n      \"content\": \"NHM aims to improve India\\'s health indicators.\"\\n    },\\n    {\\n      \"id\": \"0to6\",\\n      \"content\": \"India\\'s health indicators are influenced by NHM initiatives.\"\\n    },\\n    {\\n      \"id\": \"7to6\",\\n      \"content\": \"ASHAs are a key cadre under NHM.\"\\n    },\\n    {\\n      \"id\": \"6to7\",\\n      \"content\": \"NHM utilizes ASHAs to extend healthcare reach.\"\\n    },\\n    {\\n      \"id\": \"8to6\",\\n      \"content\": \"ANMs are'"
      ]
     },
     "execution_count": 14,
     "metadata": {},
     "output_type": "execute_result"
    }
   ],
   "source": [
    "extracted_content"
   ]
  },
  {
   "cell_type": "code",
   "execution_count": 11,
   "id": "0e8d8e2f-a712-40af-93d5-2d387907396e",
   "metadata": {},
   "outputs": [],
   "source": [
    "extracted_json"
   ]
  },
  {
   "cell_type": "code",
   "execution_count": 6,
   "id": "8416a7e1-3496-4187-98cb-8522c74d4e89",
   "metadata": {},
   "outputs": [],
   "source": [
    "# Store this json\n",
    "output_path = './knowledge_graph/cureus-0015-00000040274.json'\n",
    "\n",
    "# Writing the `extracted_json` to the specified file\n",
    "try:\n",
    "    with open(output_path, 'w', encoding='utf-8') as json_file:\n",
    "        json.dump(extracted_json, json_file, ensure_ascii=False, indent=4)\n",
    "    res = \"File saved successfully.\"\n",
    "except Exception as e:\n",
    "    res = f\"An error occurred: {e}\""
   ]
  },
  {
   "cell_type": "markdown",
   "id": "3824cc24-54f5-4da6-91ad-b32a220cf47e",
   "metadata": {},
   "source": [
    "### Retrieve From this KG using a query"
   ]
  },
  {
   "cell_type": "code",
   "execution_count": 7,
   "id": "60f2521f-274f-46c5-bb83-131fd03ee568",
   "metadata": {},
   "outputs": [
    {
     "ename": "TypeError",
     "evalue": "'NoneType' object is not subscriptable",
     "output_type": "error",
     "traceback": [
      "\u001b[0;31m---------------------------------------------------------------------------\u001b[0m",
      "\u001b[0;31mTypeError\u001b[0m                                 Traceback (most recent call last)",
      "Cell \u001b[0;32mIn[7], line 5\u001b[0m\n\u001b[1;32m      3\u001b[0m alpha_1 \u001b[38;5;241m=\u001b[39m \u001b[38;5;241m1\u001b[39m\n\u001b[1;32m      4\u001b[0m alpha_2 \u001b[38;5;241m=\u001b[39m \u001b[38;5;241m2\u001b[39m\n\u001b[0;32m----> 5\u001b[0m retreival_res \u001b[38;5;241m=\u001b[39m \u001b[43mR\u001b[49m\u001b[43m(\u001b[49m\u001b[43mquery\u001b[49m\u001b[43m,\u001b[49m\u001b[43m \u001b[49m\u001b[43mextracted_json\u001b[49m\u001b[43m,\u001b[49m\u001b[43m \u001b[49m\u001b[43malpha_1\u001b[49m\u001b[43m,\u001b[49m\u001b[43m \u001b[49m\u001b[43malpha_2\u001b[49m\u001b[43m,\u001b[49m\u001b[43m \u001b[49m\u001b[43mbeta_1\u001b[49m\u001b[43m)\u001b[49m\n\u001b[1;32m      6\u001b[0m retreival_res \u001b[38;5;241m=\u001b[39m json\u001b[38;5;241m.\u001b[39mdumps(retreival_res, ensure_ascii\u001b[38;5;241m=\u001b[39m\u001b[38;5;28;01mFalse\u001b[39;00m, indent\u001b[38;5;241m=\u001b[39m\u001b[38;5;241m4\u001b[39m)\n",
      "File \u001b[0;32m~/autodl-tmp/CMA-GRAG-main/CMA-GRAG/utils/retrieval.py:158\u001b[0m, in \u001b[0;36mR\u001b[0;34m(query, extracted_json, alpha_1, alpha_2, beta_1)\u001b[0m\n\u001b[1;32m    144\u001b[0m \u001b[38;5;28;01mdef\u001b[39;00m \u001b[38;5;21mR\u001b[39m(query, extracted_json, alpha_1, alpha_2, beta_1):\n\u001b[1;32m    145\u001b[0m \u001b[38;5;250m    \u001b[39m\u001b[38;5;124;03m\"\"\"\u001b[39;00m\n\u001b[1;32m    146\u001b[0m \u001b[38;5;124;03m    Combines R_1 and R_2 to extract both concepts and relationships for a query.\u001b[39;00m\n\u001b[1;32m    147\u001b[0m \n\u001b[0;32m   (...)\u001b[0m\n\u001b[1;32m    156\u001b[0m \u001b[38;5;124;03m    dict: A dictionary containing the sorted concepts with similarity scores and the extracted relationships.\u001b[39;00m\n\u001b[1;32m    157\u001b[0m \u001b[38;5;124;03m    \"\"\"\u001b[39;00m\n\u001b[0;32m--> 158\u001b[0m     part1 \u001b[38;5;241m=\u001b[39m \u001b[43mR_1\u001b[49m\u001b[43m(\u001b[49m\u001b[43mextracted_json\u001b[49m\u001b[43m,\u001b[49m\u001b[43m \u001b[49m\u001b[43mquery\u001b[49m\u001b[43m,\u001b[49m\u001b[43m \u001b[49m\u001b[43malpha_1\u001b[49m\u001b[43m,\u001b[49m\u001b[43m \u001b[49m\u001b[43mbeta_1\u001b[49m\u001b[43m)\u001b[49m\n\u001b[1;32m    159\u001b[0m     part2 \u001b[38;5;241m=\u001b[39m R_2(extracted_json, part1, alpha_2)\n\u001b[1;32m    160\u001b[0m     \u001b[38;5;28;01mreturn\u001b[39;00m {\n\u001b[1;32m    161\u001b[0m         \u001b[38;5;124m\"\u001b[39m\u001b[38;5;124mconcepts_id/name/explanation_and_similarity_sorted\u001b[39m\u001b[38;5;124m\"\u001b[39m: part1[\u001b[38;5;241m2\u001b[39m],  \u001b[38;5;66;03m# Improved key name\u001b[39;00m\n\u001b[1;32m    162\u001b[0m         \u001b[38;5;124m\"\u001b[39m\u001b[38;5;124mcomplete_relations\u001b[39m\u001b[38;5;124m\"\u001b[39m: part2\n\u001b[1;32m    163\u001b[0m     }\n",
      "File \u001b[0;32m~/autodl-tmp/CMA-GRAG-main/CMA-GRAG/utils/retrieval.py:103\u001b[0m, in \u001b[0;36mR_1\u001b[0;34m(extracted_json, query, alpha_1, beta_1)\u001b[0m\n\u001b[1;32m     88\u001b[0m \u001b[38;5;250m\u001b[39m\u001b[38;5;124;03m\"\"\"\u001b[39;00m\n\u001b[1;32m     89\u001b[0m \u001b[38;5;124;03mPerforms the first step of reasoning, which involves finding nodes related to a query \u001b[39;00m\n\u001b[1;32m     90\u001b[0m \u001b[38;5;124;03mand retrieving further connected nodes up to a certain distance (alpha_1).\u001b[39;00m\n\u001b[0;32m   (...)\u001b[0m\n\u001b[1;32m    100\u001b[0m \u001b[38;5;124;03mand a list of connected nodes.\u001b[39;00m\n\u001b[1;32m    101\u001b[0m \u001b[38;5;124;03m\"\"\"\u001b[39;00m\n\u001b[1;32m    102\u001b[0m result_list \u001b[38;5;241m=\u001b[39m []\n\u001b[0;32m--> 103\u001b[0m total_concepts, extracted_concepts \u001b[38;5;241m=\u001b[39m \u001b[43mfind_nodes\u001b[49m\u001b[43m(\u001b[49m\u001b[43mquery\u001b[49m\u001b[43m,\u001b[49m\u001b[43m \u001b[49m\u001b[43mbeta_1\u001b[49m\u001b[43m,\u001b[49m\u001b[43m \u001b[49m\u001b[43mextracted_json\u001b[49m\u001b[43m)\u001b[49m\n\u001b[1;32m    104\u001b[0m \u001b[38;5;28;01mfor\u001b[39;00m i \u001b[38;5;129;01min\u001b[39;00m \u001b[38;5;28mrange\u001b[39m(\u001b[38;5;28mlen\u001b[39m(extracted_concepts)):\n\u001b[1;32m    105\u001b[0m     re1 \u001b[38;5;241m=\u001b[39m Wfun(extracted_json, extracted_concepts[i][\u001b[38;5;124m\"\u001b[39m\u001b[38;5;124mid\u001b[39m\u001b[38;5;124m\"\u001b[39m], alpha_1)\n",
      "File \u001b[0;32m~/autodl-tmp/CMA-GRAG-main/CMA-GRAG/utils/retrieval.py:32\u001b[0m, in \u001b[0;36mfind_nodes\u001b[0;34m(query, beta_1, data)\u001b[0m\n\u001b[1;32m     20\u001b[0m \u001b[38;5;28;01mdef\u001b[39;00m \u001b[38;5;21mfind_nodes\u001b[39m(query, beta_1, data):\n\u001b[1;32m     21\u001b[0m \u001b[38;5;250m    \u001b[39m\u001b[38;5;124;03m\"\"\"\u001b[39;00m\n\u001b[1;32m     22\u001b[0m \u001b[38;5;124;03m    This function finds nodes in the knowledge graph that are most similar to the query.\u001b[39;00m\n\u001b[1;32m     23\u001b[0m \n\u001b[0;32m   (...)\u001b[0m\n\u001b[1;32m     30\u001b[0m \u001b[38;5;124;03m    tuple: A sorted list of all nodes with similarity scores, and a list of top beta_1 nodes.\u001b[39;00m\n\u001b[1;32m     31\u001b[0m \u001b[38;5;124;03m    \"\"\"\u001b[39;00m\n\u001b[0;32m---> 32\u001b[0m     concepts \u001b[38;5;241m=\u001b[39m \u001b[43mdata\u001b[49m\u001b[43m[\u001b[49m\u001b[38;5;124;43m'\u001b[39;49m\u001b[38;5;124;43mnodes\u001b[39;49m\u001b[38;5;124;43m'\u001b[39;49m\u001b[43m]\u001b[49m\n\u001b[1;32m     33\u001b[0m     conceptsAddsimi \u001b[38;5;241m=\u001b[39m concepts\n\u001b[1;32m     34\u001b[0m     \u001b[38;5;66;03m# Calculate similarity for each concept\u001b[39;00m\n",
      "\u001b[0;31mTypeError\u001b[0m: 'NoneType' object is not subscriptable"
     ]
    }
   ],
   "source": [
    "query = 'How can the National Medical Council (NMC) regulate the growing divide between the public and private health sectors in India, particularly in light of the increasing reliance on Auxiliary Nurse Midwives (ANMs) and Accredited Social Health Activists (ASHAs) for rural healthcare delivery, while addressing the broader challenges of digital technology adoption and health infrastructure development as outlined in the National Health Mission (NHM)?'\n",
    "beta_1 = 3\n",
    "alpha_1 = 1\n",
    "alpha_2 = 2\n",
    "retreival_res = R(query, extracted_json, alpha_1, alpha_2, beta_1)\n",
    "retreival_res = json.dumps(retreival_res, ensure_ascii=False, indent=4)"
   ]
  },
  {
   "cell_type": "code",
   "execution_count": null,
   "id": "1b30fb08-75ac-46bb-8030-2791e4c293bb",
   "metadata": {},
   "outputs": [],
   "source": [
    "retreival_res"
   ]
  },
  {
   "cell_type": "markdown",
   "id": "344fcec2-2b16-4111-956f-91fd02e84ddd",
   "metadata": {},
   "source": [
    "### Construct multi agents provided for users"
   ]
  },
  {
   "cell_type": "code",
   "execution_count": null,
   "id": "7d972af7-11e0-40ad-9bfd-e4d7030ede52",
   "metadata": {},
   "outputs": [],
   "source": [
    "file_path = './prompts/'\n",
    "dirs = ['agent1.txt', 'agent2.txt', 'agent3.txt', 'agent4.txt', 'fusion.txt']\n",
    "\n",
    "# Reading the content of files and storing them in the 'tasks' dictionary directly\n",
    "tasks = {key: open(f\"{file_path}{key}\", 'r', encoding='utf-8').read() for key in dirs}"
   ]
  },
  {
   "cell_type": "code",
   "execution_count": null,
   "id": "3034bcb6-dcb4-46ec-820b-75e84d663f1e",
   "metadata": {},
   "outputs": [],
   "source": [
    "file_path = './prompts/'\n",
    "dirs = ['agent1.txt', 'agent2.txt', 'agent3.txt', 'agent4.txt', 'fusion.txt']\n",
    "\n",
    "# Reading the content of files and storing them in the 'tasks' dictionary directly\n",
    "tasks = {key: open(f\"{file_path}{key}\", 'r', encoding='utf-8').read() for key in dirs}\n",
    "\n",
    "# Renaming the keys in the 'tasks' dictionary\n",
    "tasks = {\n",
    "    'concepts': tasks['agent1.txt'],\n",
    "    'hint': tasks['agent2.txt'],\n",
    "    'assess': tasks['agent3.txt'],\n",
    "    'questions': tasks['agent4.txt'],\n",
    "    'fusion': tasks['fusion.txt']\n",
    "}\n",
    "\n",
    "agents = {}\n",
    "api_key = \"531e9c858c9d4dc1d9295dbf0cdf20e5.zjSejRW3PHh8015f\"\n",
    "llms_list = [\"glm-4\", \"glm-4-plus\", \"glm-4-long\", \"glm-4-0520\", \"glm-4-flash\"]\n",
    "\n",
    "# Loop to initialize Agent instances for each LLM and task content, and create a dictionary with LLM+task as keys\n",
    "for i in llms_list:\n",
    "    for task_name, task_content in tasks.items():\n",
    "        key = f\"{i}_{task_name}\"  # Create a key by combining LLM model name and task name\n",
    "        agents[key] = Agent(api_key=api_key, model_name=i, system_content=task_content)"
   ]
  },
  {
   "cell_type": "markdown",
   "id": "1d36ae76-d972-4b94-87b0-9ad9b1eddcb1",
   "metadata": {},
   "source": [
    "#### Testing an Agent"
   ]
  },
  {
   "cell_type": "code",
   "execution_count": null,
   "id": "b999f7dc-3628-4a10-b45b-2b344b6ddac4",
   "metadata": {},
   "outputs": [],
   "source": [
    "a0 = agents[\"glm-4-plus_concepts\"]\n",
    "user_input = \"\"\"\n",
    "What does the National Medical Council (NMC) mean?\n",
    "\"\"\"\n",
    "res0 = a0.get_response(user_content=user_input)['response_content']\n",
    "print(\"The reponse is\" + \" \\n\" + res0)"
   ]
  },
  {
   "cell_type": "markdown",
   "id": "79f7a08c-f7e7-4d67-816f-9ec524bd5938",
   "metadata": {},
   "source": [
    "### Choose 5 agents"
   ]
  },
  {
   "cell_type": "code",
   "execution_count": null,
   "id": "166d2a4b-e0c5-481c-8291-8a4336f66908",
   "metadata": {},
   "outputs": [],
   "source": [
    "agent1 = agents[\"glm-4-flash_concepts\"]  # Responsible for handling the 'concepts' task using the 'glm-4-flash' model\n",
    "agent2 = agents[\"glm-4-plus_hint\"]       # Handles the 'hint' task using the 'glm-4-plus' model\n",
    "agent3 = agents[\"glm-4-plus_assess\"]     # Manages the 'assess' task using the 'glm-4-plus' model\n",
    "agent4 = agents[\"glm-4-0520_questions\"]  # Processes the 'questions' task using the 'glm-4-0520' model\n",
    "agent5 = agents[\"glm-4-flash_fusion\"]    # Takes care of the 'fusion' task using the 'glm-4-flash' model"
   ]
  },
  {
   "cell_type": "code",
   "execution_count": null,
   "id": "c0db0eb9-d003-4050-b3b5-9dce97d0cb03",
   "metadata": {},
   "outputs": [],
   "source": [
    "agent3.get_response(user_content=input)['response_content']"
   ]
  },
  {
   "cell_type": "markdown",
   "id": "2fe7aeef-852c-439c-b9b0-91313d42c4ee",
   "metadata": {},
   "source": [
    "### Generate responses and Fuse them"
   ]
  },
  {
   "cell_type": "code",
   "execution_count": null,
   "id": "e5f37c85-93c4-42d9-9be2-f5c563ba00da",
   "metadata": {},
   "outputs": [],
   "source": [
    "agents_parallel = [agent1, agent2, agent3]\n",
    "\n",
    "input = 'my question is: /n' + query +  \\\n",
    "'please answer my question based on the kwnoledge graph content as follows' + \\\n",
    "retreival_res\n",
    "\n",
    "response = \"\"\n",
    "\n",
    "for agent in agents_parallel:\n",
    "    res = agent.get_response(user_content=input)['response_content']\n",
    "    response += res"
   ]
  },
  {
   "cell_type": "code",
   "execution_count": null,
   "id": "21cc4b42-480f-440c-b9a0-48e21d1a9b40",
   "metadata": {},
   "outputs": [],
   "source": [
    "response"
   ]
  },
  {
   "cell_type": "code",
   "execution_count": null,
   "id": "df43f161-3044-450d-af12-bb55de9095f0",
   "metadata": {},
   "outputs": [],
   "source": [
    "answer_fusion = agent5.get_response(user_content=response)['response_content']\n",
    "print(answer_fusion)"
   ]
  },
  {
   "cell_type": "code",
   "execution_count": null,
   "id": "383b0e4a-4c95-43e8-a0b7-aac59a729d84",
   "metadata": {},
   "outputs": [],
   "source": [
    "# guide user next query\n",
    "guide = agent4.get_response(user_content=input)['response_content']"
   ]
  },
  {
   "cell_type": "code",
   "execution_count": null,
   "id": "6289c91e-0096-4eed-abc6-bb72fbfd9547",
   "metadata": {},
   "outputs": [],
   "source": [
    "print(guide)"
   ]
  },
  {
   "cell_type": "markdown",
   "id": "98968ff6-bcd6-4ed1-875b-82004f544270",
   "metadata": {},
   "source": [
    "#### The asnwer above is more comprehensive; but more tunning will go on..."
   ]
  }
 ],
 "metadata": {
  "kernelspec": {
   "display_name": "Python 3 (ipykernel)",
   "language": "python",
   "name": "python3"
  },
  "language_info": {
   "codemirror_mode": {
    "name": "ipython",
    "version": 3
   },
   "file_extension": ".py",
   "mimetype": "text/x-python",
   "name": "python",
   "nbconvert_exporter": "python",
   "pygments_lexer": "ipython3",
   "version": "3.12.3"
  }
 },
 "nbformat": 4,
 "nbformat_minor": 5
}
